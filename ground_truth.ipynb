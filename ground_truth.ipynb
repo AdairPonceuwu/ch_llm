{
 "cells": [
  {
   "cell_type": "code",
   "execution_count": 1,
   "id": "c954f2b6-4d8c-4884-9195-c227b9c74b9e",
   "metadata": {},
   "outputs": [],
   "source": [
    "import requests \n",
    "from collections import defaultdict"
   ]
  },
  {
   "cell_type": "code",
   "execution_count": 2,
   "id": "9903ef95-fb19-4b66-a758-92fe8506b811",
   "metadata": {},
   "outputs": [],
   "source": [
    "docs_url = 'https://raw.githubusercontent.com/AdairPonceuwu/ch_llm/main/documents.json'\n",
    "docs_response = requests.get(docs_url)\n",
    "documents = docs_response.json()"
   ]
  },
  {
   "cell_type": "code",
   "execution_count": 3,
   "id": "26363074-b222-4f0b-bd39-74bb022f9468",
   "metadata": {},
   "outputs": [
    {
     "data": {
      "text/plain": [
       "{'text': 'El Eje 4 contribuirá al repoblamiento y mejoramiento urbano del Centro Histórico de Puebla, protegiendo su patrimonio histórico cultural.',\n",
       " 'section': 'Vinculación a otros instrumentos municipales',\n",
       " 'question': '¿Cómo contribuirá el Eje 4 a la protección del patrimonio histórico cultural del Centro Histórico?',\n",
       " 'topic': 'PMD'}"
      ]
     },
     "execution_count": 3,
     "metadata": {},
     "output_type": "execute_result"
    }
   ],
   "source": [
    "documents[0]"
   ]
  },
  {
   "cell_type": "code",
   "execution_count": 4,
   "id": "b6843656-41c3-4526-b105-6ad943232307",
   "metadata": {},
   "outputs": [],
   "source": [
    "import hashlib\n",
    "\n",
    "def generate_document_id(doc):\n",
    "    # combined = f\"{doc['course']}-{doc['question']}\"\n",
    "    combined = f\"{doc['topic']}-{doc['question']}-{doc['text'][:10]}\"\n",
    "    hash_object = hashlib.md5(combined.encode())\n",
    "    hash_hex = hash_object.hexdigest()\n",
    "    document_id = hash_hex[:8]\n",
    "    return document_id"
   ]
  },
  {
   "cell_type": "code",
   "execution_count": 5,
   "id": "b079b6b0-6894-474f-9e83-112cde54ae01",
   "metadata": {},
   "outputs": [],
   "source": [
    "for doc in documents:\n",
    "    doc['id'] = generate_document_id(doc)"
   ]
  },
  {
   "cell_type": "code",
   "execution_count": 6,
   "id": "1623bee3-50b2-45d9-966a-b683a13a04e0",
   "metadata": {},
   "outputs": [
    {
     "data": {
      "text/plain": [
       "{'text': 'En el último decenio, la zona metropolitana registró su menor crecimiento poblacional con una tasa media anual de 0.9%. Esta situación contrasta con las altas tasas de crecimiento de municipios como Cuautlancingo, San Andrés Cholula, Huejotzingo y Coronango.',\n",
       " 'section': 'Densidad poblacional',\n",
       " 'question': '¿Cuál fue la tasa media anual de crecimiento poblacional en la zona metropolitana en el último decenio?',\n",
       " 'topic': 'PMD',\n",
       " 'id': 'bbcc69fc'}"
      ]
     },
     "execution_count": 6,
     "metadata": {},
     "output_type": "execute_result"
    }
   ],
   "source": [
    "documents[3]"
   ]
  },
  {
   "cell_type": "code",
   "execution_count": 7,
   "id": "93ab6866-e417-412b-a84c-12ad724c4a95",
   "metadata": {},
   "outputs": [],
   "source": [
    "hashes = defaultdict(list)\n",
    "\n",
    "for doc in documents:\n",
    "    doc_id = doc['id']\n",
    "    hashes[doc_id].append(doc)"
   ]
  },
  {
   "cell_type": "code",
   "execution_count": 8,
   "id": "5cabeb38-17e7-45d9-9eb1-f103fee12728",
   "metadata": {},
   "outputs": [
    {
     "data": {
      "text/plain": [
       "(186, 186)"
      ]
     },
     "execution_count": 8,
     "metadata": {},
     "output_type": "execute_result"
    }
   ],
   "source": [
    "len(hashes), len(documents)"
   ]
  },
  {
   "cell_type": "code",
   "execution_count": 9,
   "id": "a33d9059-4c60-4a8e-b32f-f135cc8040fd",
   "metadata": {},
   "outputs": [],
   "source": [
    "for k, values in hashes.items():\n",
    "    if len(values) > 1:\n",
    "        print(k, len(values))"
   ]
  },
  {
   "cell_type": "code",
   "execution_count": 10,
   "id": "dcfd5477-b965-42fe-be20-5a68570f9292",
   "metadata": {},
   "outputs": [
    {
     "data": {
      "text/plain": [
       "[{'text': 'C6 Reservas ecológica, parques, jardines, espacio públcio y área verde',\n",
       "  'section': 'Intervención Arquitectónica ',\n",
       "  'question': '¿Qué establece la categoría 6 en el Programa Parcial de Desarrollo Urbano Sustentable?',\n",
       "  'topic': 'PPDUS',\n",
       "  'id': 'c78f3aa6'}]"
      ]
     },
     "execution_count": 10,
     "metadata": {},
     "output_type": "execute_result"
    }
   ],
   "source": [
    "hashes['c78f3aa6']"
   ]
  },
  {
   "cell_type": "code",
   "execution_count": 11,
   "id": "60ef812b-8741-4d73-9a11-075e835c9664",
   "metadata": {},
   "outputs": [],
   "source": [
    "import json"
   ]
  },
  {
   "cell_type": "code",
   "execution_count": 25,
   "id": "d92ae831-680f-4107-8fcd-1646cf7de7d8",
   "metadata": {},
   "outputs": [],
   "source": [
    "with open('documents-with-ids.json', 'w', encoding='utf-8') as f_out:\n",
    "    json.dump(documents, f_out, ensure_ascii=False, indent=2)"
   ]
  },
  {
   "cell_type": "code",
   "execution_count": 258,
   "id": "7f3d2682-1451-4d3d-a057-56ab1e347064",
   "metadata": {},
   "outputs": [],
   "source": [
    "prompt_template = \"\"\"\n",
    "Eres un excelente hablante de español y experto formulador de preguntas.\n",
    "Formula 2 preguntas basadas en un registro de preguntas frecuentes (FAQ). Las preguntas que formules deben poder ser contestadas \n",
    "solamente con la respuesta de cada registro y deben ser completas y detalladas. \n",
    "Usa la menor cantidad posible de palabras exactas del registro.\n",
    "\n",
    "Registro:\n",
    "\n",
    "sección: {section}\n",
    "pregunta: {question}\n",
    "respuesta: {text}\n",
    "\n",
    "No des texto extra, solo las preguntas formuladas, que deben de ir en el siguiente formato para que sea \"parsable con JSON\" sin utilizar \"code blocks\":\n",
    "\n",
    "[\n",
    "  \"pregunta1\",\n",
    "  \"pregunta2\"\n",
    "]\n",
    "\n",
    "\n",
    "\"\"\".strip()"
   ]
  },
  {
   "cell_type": "code",
   "execution_count": 27,
   "id": "611033f2-ab4a-47c6-8a92-9f4df6a5c626",
   "metadata": {},
   "outputs": [],
   "source": [
    "from openai import OpenAI\n",
    "\n",
    "client = OpenAI(\n",
    "    base_url='http://localhost:11434/v1/',\n",
    "    api_key='ollama',\n",
    ")"
   ]
  },
  {
   "cell_type": "code",
   "execution_count": 38,
   "id": "c1ea328d-bc0b-4d7b-8af0-a55348aad5a1",
   "metadata": {},
   "outputs": [],
   "source": [
    "def generate_questions(doc):\n",
    "    prompt = prompt_template.format(**doc)\n",
    "\n",
    "    response = client.chat.completions.create(\n",
    "        model='llama3.1',\n",
    "        messages=[{\"role\": \"user\", \"content\": prompt}]\n",
    "    )\n",
    "\n",
    "    json_response = response.choices[0].message.content\n",
    "    return json_response"
   ]
  },
  {
   "cell_type": "code",
   "execution_count": 276,
   "id": "6384bc6a-1a71-4a53-a2ff-3312805fa390",
   "metadata": {},
   "outputs": [],
   "source": [
    "doc = documents[19]\n",
    "questions = generate_questions(doc)"
   ]
  },
  {
   "cell_type": "code",
   "execution_count": 267,
   "id": "8cbc42bf-26d7-4d84-9e55-cdd757ea12db",
   "metadata": {},
   "outputs": [
    {
     "data": {
      "text/plain": [
       "{'text': 'En la junta auxiliar de San Andrés Azumiatla, el 54.8% de las viviendas cuenta con apenas un dormitorio.',\n",
       " 'section': 'Bienestar Social',\n",
       " 'question': '¿Cuál es el porcentaje de viviendas con apenas un dormitorio en San Andrés Azumiatla?',\n",
       " 'topic': 'PMD',\n",
       " 'id': '318ff118'}"
      ]
     },
     "execution_count": 267,
     "metadata": {},
     "output_type": "execute_result"
    }
   ],
   "source": [
    "documents[19]"
   ]
  },
  {
   "cell_type": "code",
   "execution_count": 277,
   "id": "85711d2e-fb5a-4fef-b9db-aec61647388a",
   "metadata": {},
   "outputs": [
    {
     "data": {
      "text/plain": [
       "'[\\n  \"¿Cuánto por ciento de viviendas tiene un solo cuarto en San Andrés Azumiatla?\",\\n  \"En dónde se encuentra el 54.8% de las viviendas que son para dormir una sola en San Andrés Azumiatla?\"\\n]'"
      ]
     },
     "execution_count": 277,
     "metadata": {},
     "output_type": "execute_result"
    }
   ],
   "source": [
    "questions"
   ]
  },
  {
   "cell_type": "code",
   "execution_count": 278,
   "id": "4beb6413-3af9-491b-b6e0-a15cad18830d",
   "metadata": {},
   "outputs": [
    {
     "data": {
      "text/plain": [
       "['¿Cuánto por ciento de viviendas tiene un solo cuarto en San Andrés Azumiatla?',\n",
       " 'En dónde se encuentra el 54.8% de las viviendas que son para dormir una sola en San Andrés Azumiatla?']"
      ]
     },
     "execution_count": 278,
     "metadata": {},
     "output_type": "execute_result"
    }
   ],
   "source": [
    "json.loads(questions)"
   ]
  },
  {
   "cell_type": "code",
   "execution_count": 279,
   "id": "45de517a-b39f-45f5-971b-4750f811bde0",
   "metadata": {},
   "outputs": [],
   "source": [
    "results[\"318ff118\"] = questions"
   ]
  },
  {
   "cell_type": "code",
   "execution_count": 52,
   "id": "8268b418-8e64-4f1b-8f7f-1a2a5d297c04",
   "metadata": {},
   "outputs": [
    {
     "name": "stderr",
     "output_type": "stream",
     "text": [
      "D:\\Anaconda\\envs\\centro_historico\\Lib\\site-packages\\tqdm\\auto.py:21: TqdmWarning: IProgress not found. Please update jupyter and ipywidgets. See https://ipywidgets.readthedocs.io/en/stable/user_install.html\n",
      "  from .autonotebook import tqdm as notebook_tqdm\n"
     ]
    }
   ],
   "source": [
    "from tqdm.auto import tqdm"
   ]
  },
  {
   "cell_type": "code",
   "execution_count": 15,
   "id": "870e86b1-0c82-4451-ab59-cdbdfa01244e",
   "metadata": {},
   "outputs": [],
   "source": [
    "results = {}"
   ]
  },
  {
   "cell_type": "code",
   "execution_count": 178,
   "id": "5207ab61-8d06-458e-8850-665c188132a6",
   "metadata": {},
   "outputs": [
    {
     "name": "stderr",
     "output_type": "stream",
     "text": [
      "100%|████████████████████████████████████████████████████████████████████████████████| 186/186 [53:45<00:00, 17.34s/it]\n"
     ]
    }
   ],
   "source": [
    "for doc in tqdm(documents): \n",
    "    doc_id = doc['id']\n",
    "    if doc_id in results:\n",
    "        continue\n",
    "\n",
    "    questions = generate_questions(doc)\n",
    "    results[doc_id] = questions"
   ]
  },
  {
   "cell_type": "code",
   "execution_count": 218,
   "id": "94ecc684-88b8-4e1f-9597-2fa90d1fae93",
   "metadata": {},
   "outputs": [],
   "source": [
    "#results"
   ]
  },
  {
   "cell_type": "code",
   "execution_count": 12,
   "id": "722d8bf6-6d88-4788-b662-6bd461a3cf3f",
   "metadata": {},
   "outputs": [],
   "source": [
    "import pickle\n",
    "import json"
   ]
  },
  {
   "cell_type": "code",
   "execution_count": 14,
   "id": "3007a936-8895-4037-a6bd-64770463992d",
   "metadata": {},
   "outputs": [],
   "source": [
    "#with open('results.bin', 'wb') as file:\n",
    "#    pickle.dump(results, file)"
   ]
  },
  {
   "cell_type": "code",
   "execution_count": 13,
   "id": "1e5f47a1-a6fd-4593-a6df-38632877d51c",
   "metadata": {},
   "outputs": [],
   "source": [
    "with open('results.bin', 'rb') as file:\n",
    "    results = pickle.load(file)"
   ]
  },
  {
   "cell_type": "code",
   "execution_count": 15,
   "id": "4b9be618-5213-4f5d-8c8e-4cfa3e4b2541",
   "metadata": {},
   "outputs": [
    {
     "data": {
      "text/plain": [
       "{'335b2f94': '[\\n  \"¿Qué acción ayudará al Eje 4 a proteger los elementos históricos del Centro Histórico?\",\\n  \"En qué medida el Eje 4 contribuirá al mejoramiento urbano y preservación cultural de este área?\"\\n]',\n",
       " '805017f9': '[\\n  \"¿Cuáles son los objetivos principales del Plan de Manejo del Centro Histórico de la ciudad?\",\\n  \"¿Qué acciones se llevarán a cabo para lograr un mayor compromiso con la gestión y conservación del patrimonio histórico?\"\\n]',\n",
       " '017273c8': '[\\n  \"¿Qué política abordan los programas parciales de desarrollo urbano del Centro Histórico?\",\\n  \"¿Cuáles son los objetivos de gobierno en el Barrio de Santiago Universitario?\"\\n]',\n",
       " 'bbcc69fc': '[\\n  \"¿Cuál fue la tasa más baja alcanzada por la zona metropolitana en cuanto a crecimiento poblacional durante el último decenio?\",\\n  \"¿Cuáles son algunos de los municipios con las mayores tasas de crecimiento dentro del área metropolitana?\"\\n]',\n",
       " '9f8a1086': '[\\n  \"¿Qué fenómeno ha provocado la reducción de personas viviendo en el área principal de la ciudad?\",\\n  \"¿Por qué la gente se está mudando de la parte vieja de la ciudad a las áreas alrededor del centro metropolitano?\"\\n]',\n",
       " '244a2e43': '[\\n  \"¿Cuáles son los efectos del despoblamiento urbano sobre la movilidad?\",\\n  \"¿Cómo afecta el despoblamiento económico y medioambiental a una región?\"\\n]',\n",
       " 'bddafd6d': '[\\n  \"¿Qué fenómenos provocan la degradación del patrimonio urbano del núcleo céntrico?\",\\n  \"¿Por qué las construcciones en el Centro Histórico están siendo abandonadas?\"\\n]',\n",
       " '28697056': '[\\n  \"¿Cuáles son los sectores del Centro Histórico más afectados por la falta de mantenimiento?\",\\n  \"¿Cómo ha afectado la falta de inversión en mantenimiento a áreas específicas del Centro Histórico?\"\\n]',\n",
       " '884b3595': '[\\n  \"¿Qué condiciones han llevado al centro histórico a un estado de decadencia?\",\\n  \"¿Cuáles son los factores clave que han contribuido al mal estado del centro histórico en materia de infraestructura edificada?\"\\n]',\n",
       " '6351cfa1': '[\\n  \"¿Por qué se le considera una riqueza cultural a su municipio?\",\\n  \"¿Cuáles son las razones por lo que está reconocido a nivel nacional?\"\\n]',\n",
       " '21b7970e': '[\\n  \"¿Cuál es la relación entre turismo y economía local?\",\\n  \"¿Por qué tiene una alta significación la actividad turística?\"\\n]',\n",
       " '3b870dae': '[\\n  \"¿Cómo otorga la UNESCO ventajas competitivas a los municipios turísticos?\",\\n  \"¿Qué beneficios generales aportan en Puebla los reconocimientos UNESCO para la vocación turística?\"\\n]',\n",
       " '033163bd': '[\\n  \"¿Qué año fue inscrito el Centro Histórico de Puebla en Patrimonio Mundial?\",\\n  \"¿Cuándo se registró oficialmente el sitio turístico del centro histórico de Puebla?\"\\n]',\n",
       " '7e11272c': '[\\n  \"¿En qué año fue incluida la Biblioteca Palafoxiana en el Registro de la Memoria del Mundo?\",\\n  \"¿A qué año se remonta la inclusión de la Biblioteca Palafoxiana en el Registro de la Memoria del Mundo?\"\\n]',\n",
       " 'bffc5f55': '[\\n  \"¿Qué reconocimiento obtuvieron los documentos del Archivo General Municipal de Puebla?\",\\n  \"¿Se registraron ciertas colecciones en un importante índice americano en 2015?\"\\n]',\n",
       " '2c59f0ff': '[\\n  \"¿En qué año fueron inscritos los procesos artesanales para la elaboración de la Talavera de Puebla y Tlaxcala en lista del Patrimonio Cultural Inmaterial de la Humanidad?\",\\n  \"¿Cuáles fueron las fechas exactas en las que se inscribieron los procesos artesanales mencionados?\"\\n]',\n",
       " 'da34489d': '[\\n  \"¿Qué año marcó la inclusión de la Ciudad de Puebla en la Red de Ciudades Creativas de la UNESCO?\",\\n  \"¿En qué año la UNESCO nombró creativa a la Ciudad de Puebla?\"\\n]',\n",
       " '83e2a23e': '[\\n  \"¿Cuál es la condición que afecta al 25.5% de las viviendas particulares habitadas en Puebla?\",\\n  \"¿Qué es común en el 25.5% de las viviendas particulares del municipio de Puebla?\"\\n]',\n",
       " 'e7af742e': '[\\n  \"¿Qué porcentaje de viviendas con solo un dormitorio tiene el municipio de Puebla?\",\\n  \"¿Cómo es el porcentaje estatal de viviendas con un solo dormitorio en comparación con la del municipio de Puebla?\"\\n]',\n",
       " '318ff118': '[\\n  \"¿Cuánto por ciento de viviendas tiene un solo cuarto en San Andrés Azumiatla?\",\\n  \"En dónde se encuentra el 54.8% de las viviendas que son para dormir una sola en San Andrés Azumiatla?\"\\n]',\n",
       " '9079cdc6': ' \\n[\\n\"¿Qué porcentaje de viviendas en el Centro Histórico tiene solo una habitación, lo que refleja hacinamiento?\",\\n\"¿Qué indica el hecho de que el 34.9% de las viviendas en el Centro Histórico tiene únicamente un dormitorio?\"\\n]\\n',\n",
       " '2285cae5': '[\\n  \"¿Cuál porcentaje de viviendas con solo un dormitorio se registra en San Miguel Canoa?\",\\n  \"¿Cuáles son los porcentajes de viviendas con solo un dormitorio registrados en Santa María Guadalupe Tecola y San Miguel Canoa?\"\\n]',\n",
       " 'c23c2879': '[\\n  \"¿Cuántos archivos históricos tiene el municipio?\",\\n  \"¿Cuáles son los otros logros del municipio después de ser declarado patrimonio de la UNESCO?\"\\n]',\n",
       " 'ee0946cb': '[\\n  \"¿Qué premio tiene el Centro Histórico de Puebla por parte de la UNESCO?\",\\n  \"¿De qué lista forma parte el Centro Histórico de Puebla según la UNESCO?\"\\n]',\n",
       " '63a78c12': '[\\n  \"¿Cuál fue el reconocimiento de la UNESCO a Talavera de Puebla?\",\\n  \"¿Por qué es importante Talavera de Puebla según la UNESCO?\"\\n]',\n",
       " '5b385772': '[\\n  \"¿Cuáles son los principales monumentos históricos de ese municipio?\",\\n  \"¿Qué sitios museísticos tiene el municipio?\"\\n]',\n",
       " '14de7668': '[\\n  \"¿Cuántos monumentos religiosos está a cargo el Instituto Nacional de Antropología e Historia?\",\\n  \"¿Qué lugares emblemáticos del municipio están custodiados por el Instituto Nacional de Antropología e Historia?\"\\n]',\n",
       " '5d40972a': '[\\n  \"¿Cuál es la cuestión identificada en el Diagnóstico Urbano del Centro Histórico?\",\\n  \"¿Qué elementos de la ciudad están afectados por ese diagnóstico?\"\\n]',\n",
       " 'bee1f3b4': ' \\n[\\n  \"¿Cómo afecta la proliferación de espectaculares y anuncios en vialidades a la apariencia de la ciudad?\",\\n  \"¿Por qué la instalación no autorizada de anuncios en las vialidades es considerada un riesgo?\"\\n]\\n',\n",
       " '5d933f35': '[\\n  \"¿Qué instrumentos de planeación tienes tú en Puebla?\",\\n  \"¿Cuáles son los programas parciales de gestión urbana que se aplican?\"\\n]',\n",
       " '7cbbf4f0': '[\\n  \"¿Cuál es el instrumento de planeación urbana responsable de abordar los efectos del cambio climático en Puebla?\",\\n  \"¿Qué documento previsto por las políticas de desarrollo urbano contempla estrategias para minimizar la huella carbono en el Municipio de Puebla?\"\\n]',\n",
       " '0811bfe1': '[\\n  \"¿Qué áreas urbanas carecen de regulaciones específicas?\",\\n  \"¿En qué zonas no existen planes para guiar su crecimiento urbanístico?\"\\n]',\n",
       " '3c367131': '[\\n  \"¿Qué instrumentos específicos se necesitan para la gestión del agua en Puebla?\",\\n  \"¿Cuál es el desarrollo urbano que requiere instrumentos específicos de planificación en Puebla?\"\\n]',\n",
       " '206f7394': '[\\n  \"¿Cuál fue el año en que el Centro Histórico de Puebla fue declarado Zona de Monumentos Históricos?\",\\n  \"¿Cuáles son las diferentes actividades que se concentran actualmente en la zona del Centro Histórico?\"\\n]',\n",
       " '14d6876a': '{\\n  \"pregunta1\": \"¿El sector terciario es especialización económica del Centro Histórico de Puebla?\",\\n  \"pregunta2\": \"¿Se tienen en el Centro Histórico más comercios y servicios que municipio como San Andrés Cholula?\"\\n}',\n",
       " '550a402e': '[\\n  \"¿Cuál fue la población del Centro Histórico en el año 2000?\",\\n  \"¿Cuántas viviendas existen deshabitadas en el Centro Histórico?\"\\n]',\n",
       " '137b232d': ' \\n[\\n  \"¿En qué barrios y colonias del Centro Histórico se concentran las mayores condiciones de pobreza y marginación según CONEVAL 2016?\",\\n  \"¿Dónde se ubica la mayor parte de la población residente del Centro Histórico, y en qué zonas se observa mayor deterioro urbano?\"\\n]\\n',\n",
       " 'eed016e4': ' \\n[\\n  \"¿Cuántos espacios recreativos se encuentran en el Centro Histórico y cómo se compara su dotación con otras zonas del municipio?\",\\n  \"¿Por qué muchos de los 52 espacios recreativos en el Centro Histórico son considerados inseguros por la población residente?\"\\n]\\n',\n",
       " '4bc92cfb': '[\\n  \"¿Cuál es la cobertura del recubrimiento de vialidades y alumbrado público en el Centro Histórico?\",\\n  \"¿Cómo afecta el deterioro de la infraestructura a la conectividad de la zona?\"\\n]',\n",
       " 'bb076a16': '[\\n  \"¿En qué parte del Centre Histórico es más alta la cantidad de rutas de transporte?\",\\n  \"¿Qué forma de movilidad en el Centro Histórico tiene mayor probabilidad de incidentes?\"\\n]',\n",
       " 'f38adb9f': '[\\n  \"¿Qué detalles especifica sobre el deterioro progresivo del patrimonio edificado en el Centro Histórico de Puebla?\",\\n  \"¿Por qué se erosionan las prácticas culturales tradicionales de la población en los barrios históricos del Centro Histórico?\"\\n]',\n",
       " 'cfeffd05': '[\\n  \"¿Qué tipo de transporte público cubre la zona urbana en Puebla?\",\\n  \"¿Qué caracteriza a la red urbana de transporte en Puebla?\"\\n]',\n",
       " '9ac90870': '[\\n  \"¿Qué aspectos del modelo hombre-camión de transporte concesionado son poco eficientes?\",\\n  \"¿Cuáles son los problemas asociados al esquema financiero que regula el transporte concesionado por camión en Puebla?\"\\n]',\n",
       " '8f8517b3': '[\\n  \"¿Qué líneas troncales opera el sistema RUTA y qué modelo de operación sigue?\",\\n  \"¿Cuáles son las características del sistema RUTA en cuanto a la cantidad de rutas alimentadoras?\"\\n]',\n",
       " 'c4dc534e': ' \\n[\\n  \"¿Qué ventajas ofrece el sistema RUTA en comparación con el transporte concesionado en términos de calidad del servicio?\",\\n  \"¿Cómo se distingue el sistema RUTA en cuanto a tiempos de espera y accesibilidad universal frente al transporte concesionado?\"\\n]\\n',\n",
       " '858b5299': ' \\n[\\n  \"¿Qué proporción de familias en el municipio de Puebla cuenta con acceso al transporte RUTA de acuerdo con el Programa de Vivienda?\",\\n  \"¿Qué indica el Programa de Vivienda sobre el acceso de las familias al sistema RUTA en Puebla?\"\\n]\\n',\n",
       " '3c904157': '[\\n  \"¿Cuáles son los lugares de Puebla donde la mayoría no tiene acceso a sistema de transporte de RUTA?\",\\n  \"¿Qué zonas en Puebla tienen un recortado acceso con el sistema RUTA?\" \\n]',\n",
       " '62cc2259': '[\\n  \"¿Cuáles son los planes de movilidad para la zona del Centro Histórico?\",\\n  \"¿Cómo se promueve el uso de bicicletas y transporte público en el área residencial del Centro?\"\\n]',\n",
       " 'f574f3db': '[\\n  \"¿Qué mejoras se realizan en transporte público dentro del Centro Histórico?\",\\n  \"¿Se crean rutas específicas dentro del área peatonal?\"\\n]',\n",
       " 'cc16f0ce': '[\\n  \"¿Cómo mejorar la conexión entre diferentes sectores urbanos en una ciudad?\",\\n  \"¿Qué medio de transporte es ideal para unir distintas áreas dentro de un municipio?\"\\n]',\n",
       " '47a91e3a': '[\\n  \"¿Qué se puede hacer para aprovechar mejor los estacionamientos existentes en Centro Histórico?\",\\n  \"¿Cómo se pueden desarrollar nouvelles zonas de estacionamiento ofreciendo incentivos a los inversionistas?\"\\n]',\n",
       " '3e429a18': '[\\n  \"¿Cuál es una tecnología que avisa sobre espacios disponibles de estacionamiento en Centro Histórico?\",\\n  \"¿Cómo pueden los automovilistas encontrar cajones de estacionamiento disponibles con apoyo tecnológico?\"\\n]',\n",
       " 'c052fe36': '[\\n  \"¿Cuáles son las calles que pueden beneficiar de la peatonización?\",\\n  \"¿Cómo se incentivarán los paseos familiares a través de esta iniciativa?\"\\n]',\n",
       " 'cc2bc9d8': '[\\n  \"¿Qué es la colaboración del gobierno con la RUTA para implementar corredores troncales?\",\\n  \"¿Cuál es el contexto urbano involucrado en los corredores troncales de la RUTA?\"\\n]',\n",
       " 'd19ac865': '[\\n  \"¿Qué sistema de transporte se integrará?\", \\n  \"El tipo de transporte interbarrial que implementarán es qué?\"\\n]',\n",
       " '0ae01e52': '[\\n  \"¿A qué se refieren los estudios técnicos relacionados con el transporte público convencional?\",\\n  \"¿Cuál será la situación del transporte público convencional después de realizar estos estudios?\"\\n]',\n",
       " '8e16fbc0': ' \\n[\\n  \"¿Qué acciones se contemplan para integrar la intermodalidad entre el sistema RUTA y el transporte interbarrial?\",\\n  \"¿Qué medidas se incluirán en el entorno próximo del sistema RUTA para apoyar la intermodalidad con el transporte público interbarrial?\"\\n]\\n',\n",
       " '8fbf1c32': '[\\n  \"¿Qué programas de transporte público es obligatorio implementar?\",\\n  \"¿Cuál tipo de transporte escolar y laboral será necesario?\"\\n]',\n",
       " 'fd104614': '[\\n  \"¿Qué servicio se puede pagar con una tarjeta multimodal?\",\\n  \"¿Qué ventaja ofrece utilizar un sistema de tarjeta prepago en la zona de estudio?\"\\n]',\n",
       " '4520228e': '[\\n  \"¿Qué puntos estratégicos se elegirán para ubicar los nuevos paraderos turísticos?\",\\n  \"¿Qué tipos de servicios se proporcionarán dentro de cada uno de estos paraderos?\"\\n]',\n",
       " '2f3935b4': ' \\n[\\n  \"¿En qué zonas se planea la construcción de estacionamientos disuasorios y cómo se integrarán con otros modos de transporte?\",\\n  \"¿Dónde se ubicarán los estacionamientos disuasorios y cómo apoyarán la movilidad de los usuarios?\"\\n]\\n',\n",
       " '358f873e': '{\\n  \"pregunta1\": \"¿Cuál es el área de calle que se vera afectada por la ampliación y cuál sera su finalidad?\",\\n  \"pregunta2\": \"¿Qué cambios afectaran al aforo vehicular en ese sector?\"\\n}',\n",
       " '49fd5426': '[\\n  \"¿Cuáles son las características de los proyectos de crecimiento de estacionamientos existentes?\",\\n  \"¿Qué grupos beneficiados recibirán incentivos para desarrollar proyectos de crecimiento de estaciones?\"\\n]',\n",
       " 'd779c604': ' \\n[\\n  \"¿Qué medidas se tomarán para mejorar los cruceros seguros y cuál será su objetivo en términos de movilidad?\",\\n  \"¿Cómo se pretende aumentar la seguridad en los cruceros y qué beneficios se espera para peatones y ciclistas?\"\\n]\\n',\n",
       " '716211c9': '{\\n  \"pregunta1\": \"¿Por qué se están reduciendo los carriles de las calles con altas velocidades?\",\\n  \"pregunta2\": \"¿Cuál es el objetivo principal de reducir la sección de los carriles viales en las calles con alto flujo vehicular?\"\\n}',\n",
       " '5332191c': '[\\n  \"¿El objetivo de qué programas reduce la dependencia del autos privados?.\",\\n  \"¿Qué tipo de campañas se lanzarán para reducir el uso de automóviles personales?\"\\n]',\n",
       " '6fd2f669': '[\\n  \"¿De qué manera informarán tecnologías electrónicas a los conductores sobre la disponibilidad de espacios de estacionamiento para encontrar uno en el lugar donde estudian?\",\\n  \"¿Cuál es la finalidad de implementar sistemas electrónicos en parqueaderos y dispositivos moviles?\"\\n]',\n",
       " '30bc6bf5': '{\\n  \"pregunta1\": \"¿Para qué se identifican las calles para instalar parquímetros?\",\\n  \"pregunta2\": \"¿Qué se busca con la instalación de parquímetros en las calles?\"\\n}',\n",
       " '9780ecb6': '[\\n  \"¿Qué se buscará reducir en las nuevas calles para mejorar la seguridad peatonal?\",\\n  \"¿Cuál es el objetivo principal de los nuevos diseños viales para ciclistas y peatones?\"\\n]',\n",
       " '7a276999': '[\\n  \"¿Qué características se considerarán dominantes a la hora de realizar mantenimiento básico a guarniciones?\",\\n  \"¿Cómo se adaptará el mantenimiento básico a guarniciones a las condiciones específicas del sitio?\"\\n]',\n",
       " '69166b77': '[\\n  \"¿Qué acciones se llevarán a cabo para la homogenización del material en guarniciones?\", \\n  \"¿Qué tipo de sustitución se realizará en banquetas con materiales diferentes al perfil dominante?\"\\n]',\n",
       " 'fed9ff44': '[\\n  \"¿Qué tipo de pavimentos se encuentran dañados o en mal estado para ser sustituidos?\",\\n  \"¿Cuáles son las razones principales por las que se decide la sustitución de los pavimentos?\" \\n]',\n",
       " '0a5b55ac': '[\\n  \"¿Qué programas se implementarán para la sustitución de vialidades?\",\\n  \"¿Qué materiales de superficie de rodamiento se utilizarán en las vialidades?\"\\n]',\n",
       " '3d774e56': '[\\n  \"¿Qué tipo de material estará presente en las vialidades?\",\\n  \"¿Por qué se colocará ese específico recurso vial?\"\\n]',\n",
       " 'c09f32ac': ' \\n[\\n  \"¿Qué materiales se utilizarán para la homogenización de guarniciones y banquetas y cómo se implementará este proceso?\",\\n  \"¿Qué materiales predominantes se emplearán en la homogenización de guarniciones y banquetas y cuál es el objetivo de esta uniformidad?\"\\n]\\n',\n",
       " 'ef7cc916': ' \\n[\\n  \"¿Qué características se incorporarán en los Paseos Seguros para mejorar la movilidad de peatones y ciclistas?\",\\n  \"¿Cómo se diseñarán los Paseos Seguros para facilitar el tránsito peatonal y no motorizado?\"\\n]\\n',\n",
       " 'dc840075': '[\\n  \"¿Cuál es la capacidad del establacimiento de la Red de Bicicletas Públicas (RBP)?\",\\n  \"¿En cuáles zonas del Municipio conectará la RBP con la zona de estudio?\"\\n]',\n",
       " '38f2ad8d': '[\\n  \"¿Se construirán biciestacionamientos cerca de zonas turísticas y comerciales?\",\\n  \"¿Qué funciones tendrán los biciestacionamientos del sistema públicamente disponible?\"\\n]',\n",
       " 'f0c6bdf7': '[\\n  \"¿Qué beneficios ofrecerá a los propietarios de estacionamientos públicos instalar biciestacionamientos en sus espacios?\",\\n  \"¿Cuál es el incentivo para incentivar el uso de la bicicleta mediante la instalación de biciestacionamientos en estacionamientos públicos?\"\\n]',\n",
       " 'c0aced56': '[\\n  \"¿Cuáles son las características del servicio de bicitaxis implementado?\",\\n  \"¿Cómo serán establecidas y qué se reflejará en las cargas para los usuarios?\"\\n]',\n",
       " '04782c2c': '[\\n  \"¿Se colocarán biciestacionamientos junto a equipamientos urbanos existentes?\",\\n  \"¿Qué tipo de lugares tendrán los biciestacionamientos de corta estancia?\"\\n]',\n",
       " '9aff0296': '[\\n  \"¿Objetivo del cierre de calles los fines de semana?\",\\n  \"¿Cómo beneficiará a la población y al comercio el cierre de calles los fines de semana?\"\\n]',\n",
       " 'c4667cbb': '[\\n  \"¿Qué cambios se incluirán en el nuevo Reglamento de Tránsito Municipal?\",\\n  \"¿Por qué es necesario actualizar el Reglamento de Tránsito Municipal para incluir nuevos modos de transporte?\"\\n]',\n",
       " '559208c6': '[\\n  \"¿Se abordará la construcción de carriles para prioridad ciclista y cómo se integrarán a los sistemas de transporte?\",\\n  \"¿Qué tipo de conexiones habrá entre la infraestructura ciclista y los paseos seguros?\"\\n]',\n",
       " '67bdd481': '[\\n  \"¿Cuáles calles se identificarán como peatonales?\",\\n  \"¿Cuáles son los objetivos de la peatonización?\"\\n]',\n",
       " '93ed9b74': '[\\n  \"¿Qué infraestructura tiene el Municipio de Puebla para la conectividad?\",\\n  \"¿Cómo está integrada la red del Municipio de Puebla regionalmente en cuanto a conectividad?\"\\n]',\n",
       " 'edb9c6dd': '{\\n  \"preguntas\": [\\n    {\\n      \"title\": \"¿Cómo afecta el acceso a servicios públicos la competitividad de Puebla?\"\\n    },\\n    {\\n      \"title\": \"¿Qué impacto tiene en la productividad de Puebla contar con buenos servicios públicos?\"\\n    }\\n  ]\\n}',\n",
       " 'ec962d33': '[\\n  \"¿Qué áreas específicas del Municipio de Puebla se consideran prioritarias para la inversión en infraestructuras?\",\\n  \"¿Cuáles son los sectores o zonas más críticos que necesitan mejoras en sus condiciones físicas dentro del territorio municipal?\"\\n]',\n",
       " '591c52a6': '[\\n  \"¿A qué lugares específicos se deben dirigir las inversiones para mejorar la infraestructura pública en Puebla?\",\\n  \"¿Qué áreas o comunidades de Puebla requieren atención prioritaria a través de inversión en mejoramiento de la infraestructura?\"\\n]',\n",
       " '35b0b24d': '[\\n  \"¿Qué condiciones físicas precisan la infraestructura de los barrios y colonias del Centro Histórico del ser invertidos?\",\\n  \"¿De qué manera está afectado el estado de las localidades rurales por falta de inversiones en su infraestructura?\"\\n]',\n",
       " '868b3b9e': '[\\n\"¿Cuál es la cantidad mínima de agua por persona que se garantiza en proyectos de infraestructura?\",\\n\"¿Cuántos litros de agua potable debe proporcionarse por día a cada persona en proyectos de infraestructura?\"\\n]',\n",
       " '2dca4e8b': '[\\n  \"¿Qué normatividad es aplicada para infraestructura de drenaje y alcantarillado?\",\\n  \"Deben ser sistemas separados los relacionados a aguas residuales y pluviales?\"\\n]',\n",
       " '6ac777ac': '[\\n  \"¿Qué norma regula la promoción del agua pluvial subterránea?\",\\n  \"¿Cómo aumentar la infiltración artificial del agua pluvial según la NOM-015?\"\\n]',\n",
       " '884ed4cb': '[\\n  \"¿Qué elementos deben garantizarse siempre en la instalación de alcantarillado sanitario?\",\\n  \"¿Qué requisitos estructurales son obligatorios para los proyectos de redes de alcantarillado?\"\\n]',\n",
       " 'c52f49bf': '[\\n  \"¿Qué período de tiempo deben abarcar todas las planificaciones de proyectos de infraestructura?\",\\n  \"¿Cuántos años, como mínimo, deberán contemplarse para cualquier proyecto relacionado con la infraestructura?\"\\n]',\n",
       " 'c4a566d4': '[\\n  \"¿Qué medidas están tomando la Secretaría de Movilidad e Infraestructura para mejorar vialidades y movilidad urbana en Puebla?\",\\n  \"¿Qué acciones concretas llevarán a cabo para implementar un programa de peatonalización temporal de las calles del Centro Histórico?\"\\n]',\n",
       " 'df79bc54': '[\\n  \"¿Qué estrategia se está implementando para proteger y conservar el Centro Histórico, Áreas Patrimoniales y Monumentos?\",\\n  \"¿Cuáles son las líneas de acción desarrolladas para transmitir la riqueza y autenticidad del patrimonio histórico cultural del centro histórico?\"\\n]',\n",
       " 'f8c17c86': '[\\n  \"¿Cuál describe uno objetivo principal preservación del Centro Histórico?\",\\n  \"¿A qué se refiere fortalecer cuidado urbano del Centro Histórico?\"\\n]',\n",
       " '5f02eefc': ' \\n[\\n  \"¿Qué acciones se tomarán para fortalecer el valor social, cultural, histórico y patrimonial del Centro Histórico?\",\\n  \"¿Cómo se pretende consolidar el Centro Histórico como símbolo de identidad mediante la conservación y mejoramiento de su habitabilidad?\"\\n]\\n',\n",
       " '4e812cf0': ' \\n[\\n  \"¿Cuántas acciones se generarán para la conservación y preservación de inmuebles en los polígonos de actuación del Centro Histórico?\",\\n  \"¿Qué cantidad de acciones está prevista para proteger y conservar los inmuebles dentro del Centro Histórico?\"\\n]\\n',\n",
       " 'd8d81c86': '[\\n  \"¿Qué cantidad de medidas de conservación hay dentro del Centro Histórico?\",\\n  \"¿Qué tipo de acciones se realizan en inmuebles dentro del polígono histórico?\"\\n]',\n",
       " '7abff358': '[\\n  \"¿Quién es la jefa del Centro Histórico?\", \\n  \"¿Cuál es el cargo de Berenice Vidal Castelán?\"\\n]',\n",
       " '86544762': '[\\n  \"¿Qué autoridad tiene a cargo la gestión del Centro Histórico?\", \\n  \"¿Cuál es el nombre de la función pública que se encarga del mismo Centro?\"\\n]',\n",
       " '674ef55b': ' \\n[\\n  \"¿De qué manera ayudará el Eje 4 al repoblamiento y al mejoramiento urbano del Centro Histórico, y cómo protegerá el patrimonio histórico cultural?\",\\n  \"¿Qué rol jugará el Eje 4 en la preservación del patrimonio histórico cultural mientras contribuye al mejoramiento urbano del Centro Histórico?\"\\n]\\n',\n",
       " '7f5bb88b': '[\\n  \"¿Cuándo fue reconocido oficialmente como Zona de Monumentos Históricos?\",\\n  \"¿Qué año marcó el inicio del proceso para ser protegida como Área cultural?\"\\n]',\n",
       " '164cb1ee': ' \\n[\\n  \"¿Qué extensión tiene actualmente la superficie del Centro Histórico de Puebla?\",\\n  \"¿Cuánto abarca en kilómetros cuadrados la zona de estudio del Centro Histórico en la actualidad?\"\\n]\\n',\n",
       " 'fe9400ad': '[\\n  \"¿Cuáles son los procedimientos obligatorios para mantener la relevancia de los monumentos históricos categoría 2?\",\\n  \"¿Qué se debe considerar para conservar y preservar los patrimonios arquitectónicos mediante su restauración?\"\\n]',\n",
       " '6cf69d83': ' \\n[\\n  \"¿Qué decreto establece la Zona de Monumentos Históricos en la Ciudad de Puebla de Zaragoza?\",\\n  \"¿Cuál es el documento que declara una zona de monumentos históricos en Puebla y que obliga a la conservación de los monumentos relevantes?\"\\n]\\n',\n",
       " 'ac6f2cd1': '[\\n  \"¿Qué acciones de desarrollo urbano permitirá el Acuerdo de Cabildo dentro del Zonificación del Centro Histórico?\",\\n  \"¿Cuáles son los principios principales que regulan la toma de decisiones para las iniciativas urbanísticas en esa área histórica?\"\\n]',\n",
       " '21277c13': '[\\n  \"¿Qué iniciativas mejorarán la accesibilidad y eficiencia vial peatonal del área del Centro Histórico?\",\\n  \"¿De qué manera se asegurará igualdad de oportunidades a todos los usuarios al utilizar las áreas recién mejoradas en el corazón de la ciudad?\"\\n]',\n",
       " '2ba32458': '[\\n  \"¿Prioriza la rehabilitación de espacios públicos el Programa Parcial?\",\\n  \"¿Incluye mejoras en servicios urbanos la estrategia del Centro Histórico?\"\\n]',\n",
       " 'd651f911': '[\\n    \"¿Qué restorationes se llevan a cabo en lugares históricos del Centro Histórico?\",\\n    \"¿ qué actividades se promovén para fortalecer la cultura de dicho lugar?\"\\n]',\n",
       " '04545db2': '[\\n  \"¿Qué tipo de participación ciudadana busca fomentar el Plan de Manejo del Centro Histórico?\",\\n  \"¿Por qué la gestión y conservación son tan importantes para el patrimonio?\"\\n]',\n",
       " '6260a4c8': '[\\n  \"¿Qué tipo de necesidades tiene la infraestructura del Centro Histórico según el diagnóstico urbano?\",\\n  \"¿Qué condición se encuentra en la red de infraestructura del centro histórico?\"\\n]',\n",
       " 'ee0a9635': '[\\n  \"¿Cuál es el propósito detrás del intento por revertir la disminución de población en el centro histórico?\",\\n  \"¿Cómo se pretende revitalizar una zona con tendencia a la decadencia demográfica?\"\\n]',\n",
       " 'c4986d1a': '[\\n  \"¿Cuáles son las áreas a proteger en el Centro Histórico según el Acuerdo de Cabildo?\",\\n  \"¿Qué tipo de espacios se crearán según el Acuerdo de Cabildo en el Centro Histórico?\"\\n]',\n",
       " '5bb89c40': '[\\n  \"¿Cuál es la proporción del sector terciario dedicado al comercio minorista en el Centro Histórico?\",\\n  \"¿Hay algún otro tipo de unidad económica importante en el Centro Histórico, además del comercio minorista?\"\\n]',\n",
       " 'd78a38f6': '[\\n  \"¿Qué áreas necesitan mayores inversiones dentro del Centro Histórico según un diagnóstico de servicios públicos?\",\\n  \"¿Cuáles van a ser la principales reparaciones que deben hacerse en ese sentido?\"\\n]',\n",
       " '0386da35': ' \\n[\\n  \"¿Qué medidas respecto al tráfico vehicular se incluyen en el Plan Parcial del Centro Histórico?\",\\n  \"¿Cómo aborda el Plan Parcial del Centro Histórico la restricción del tráfico vehicular y la creación de zonas peatonales?\"\\n]\\n',\n",
       " 'dc31c03f': '[\\n  \"¿Qué iniciativas tienen previstas para destacar la riqueza histórica del área?\", \\n  \" ¿Cuáles serán los detalles principales de las rutas turísticas que se crearán?\"\\n]',\n",
       " 'c9cf8c30': '[\\n  \"¿De qué manera contribuye la rehabilitación de fachadas al atractivo turístico y económico del Centro Histórico?\",\\n  \"¿Cómo mejora la imagen urbana la rehabilitación de fachadas en el Centro Histórico?\"\\n]',\n",
       " 'd394f6ce': '[\\n  \"¿Por qué busca fomentar la inclusión social el Programa Parcial de Desarrollo Urbano?\",\\n  \"¿Qué residuos específicos busca promover en los residentes del Centro Histórico?\"\\n]',\n",
       " 'ad1e57e7': '[\\n  \"¿Cuántos espacios recreativos son identificados en el Centro Histórico?\",\\n  \"¿Qué característica comparte la mayoría de los espacios recreativos encontrados en el Centro Histórico?\"\\n]',\n",
       " '6e260f78': '[\\n  \"¿Qué se enfatiza sobre la participación ciudadana por parte del Acuerdo de Cabildo?\",\\n  \"¿Cuál es el papel de la comunidad en la preservación del Casco Histórico según establece dicha convención?\"\\n]',\n",
       " 'fe8d73d6': ' \\n[\\n  \"¿Qué entidades y sectores participan en la gestión y desarrollo sustentable del Centro Histórico?\",\\n  \"¿Cómo está organizada la gestión y desarrollo sustentable del Centro Histórico en términos de instituciones y sectores sociales involucrados?\"\\n]\\n',\n",
       " 'fd9dfc4a': '[\\n  \"¿Cuál es finalidad objetivo de políticas vivienda Centro Histórico?\",\\n  \"¿Qué se busca lograr viviendas deshabitadas revitalizar zona?\"\\n]',\n",
       " 'a3c7b974': '[\\n  \"¿Qué tipo de actividades se promueven en el Centro Histórico?\",\\n  \"¿Cómo se enfoca el crecimiento económico en la zona?\"\\n]',\n",
       " 'deb6b1e9': '[\\n  \"¿Qué medidas incluye el Plan de Manejo del Centro Histórico para la seguridad de los espacios públicos?\",\\n  \"¿Cómo asegura que los espacios públicos sean accesibles según el Plan de Manejo del Centro Histórico?\"\\n]',\n",
       " 'fc7e9b44': '[\\n  \"¿Qué tipo de tradiciones se promueven dentro del Centro Histórico?\", \\n  \"¿Cuáles son los oficios locales que están siendo preservados en la zona?\"\\n]',\n",
       " 'f7ea3874': ' \\n[\\n  \"¿Qué tipo de evaluaciones se llevarán a cabo para revisar el estado de conservación de los inmuebles históricos en el Centro Histórico?\",\\n  \"¿Cómo se planea evaluar el estado de conservación de los inmuebles históricos del Centro Histórico?\"\\n]\\n',\n",
       " '995ced29': ' \\n[\\n  \"¿Qué medidas propone el Acuerdo de Cabildo para fomentar la rehabilitación de edificios en el Centro Histórico?\",\\n  \"¿Cómo pretende el Acuerdo de Cabildo incentivar la rehabilitación de inmuebles en el Centro Histórico?\"\\n]\\n',\n",
       " '084ca92e': '[\\n  \"¿Qué tipo de servicios se mejorará?\", \\n  \"¿Qué suministros se proporcionarán garantizando la mejora?\"\\n]',\n",
       " '45938767': '[\\n  \"¿Qué tipos de iniciativas educativas se desarrollarán?\",\\n  \"¿Cómo contribuirá a la identidad comunitaria?\"\\n]',\n",
       " 'fb9f43f8': ' \\n[\\n  \"¿Qué enfoque se toma en la planificación del desarrollo urbano del Centro Histórico para equilibrar la conservación y la modernización?\",\\n  \"¿Cómo se asegura el desarrollo urbano del Centro Histórico entre la conservación de su patrimonio y la incorporación de elementos modernos?\"\\n]\\n',\n",
       " 'be224288': '[\\n  \"¿Qué espacios se crean para los residentes según el Programa Parcial del Centro Histórico?\",\\n  \"¿A qué utilizan los residentes las áreas creadas por el Programa Parcial del Centro Histórico?\"\\n]',\n",
       " '84cf7022': '[\\n  \"¿Qué tipo de acciones se llevarán a cabo para proteger los edificios históricos del Centro Histórico?\",\\n  \"¿Cuáles serían los objetivos principales de las campañas de sensibilización cultural en la zona antigua?\"\\n]',\n",
       " '53b98fb3': '[\\n  \"¿Qué caracteriza a los monumentos históricos ubicados dentro del Centro Histórico según la categoría del Programa Parcial de Desarrollo Urbano Sustentable?\",\\n  \"¿Cuáles son las acciones obligatorias para conservación que se deben llevar a cabo con respecto a los monumentos históricos de categoría 1 en el del Centro Histórico?\"\\n]',\n",
       " 'f6555d53': '[\"¿Qué se considera obligatorios restaurar en la categoría 2 del Centro Histórico?\", \"¿En qué sentido los monumentos históricos modificados son relevantes en el Programa Parcial?\"]',\n",
       " '6a1f8b6a': '[\\n  \"¿Qué determina qué tipo de peritaje necesario es para los inmuebles del patrimonio edificado?\",\\n  \"¿Cuáles son las normas establecidas que rigen los límites de la intervención en los inmuebles del patrimonio edificado?\"\\n]',\n",
       " '66d5f54f': '[\\n  \"¿Qué tipo de edificios tienen intervenciones orientadas a la restauración?\",\\n  \"¿A qué edificaciones pertenecen los templos y los de origen religioso dentro del C1?\"\\n]',\n",
       " 'd5e72790': '[\\n  \"¿Cómo identificaría un edificio que conserve parcialmente su estilo arquitectónico histórico?\",\\n  \"¿Qué tipo de cambios puedo hacer en un edificio para mantener su valor patrimonial?\"\\n]',\n",
       " 'e0ed62f6': '[\\n  \"¿Cómo se deben abordar las intervenciones en edificios con elementos históricos aislados?\",\\n  \"¿Qué se sugiere hacer con los edificios que han perdido su unidad formal debido a cambios no controlados?\"\\n]',\n",
       " '84c86e94': '{\\n  \"intervención_arquitectónica\": [\"¿Qué características tienen los edificios construidos en el siglo XX?\",\"¿Por qué es importante conservar edificios que representan estilos arquitectónicos como el neorenacentista y el art nouveau?\"]\\n}',\n",
       " 'd9852e39': '[\\n  \"¿Qué hace que la arquitectura contemporánea discrepe del contexto histórico del patrimonio edificado?\",\\n  \"¿De qué manera se consideran relevantes los bienes arquitectónicos en el contexto de la preservación?\"\\n]',\n",
       " '10d9d963': '[\\n  \"¿Qué caracteriza a los inmuebles incluidos en la categoría 1 del Programa Parcial de Desarrollo Urbano Sustentable?\",\\n  \"¿Cuáles son las intervenciones permitidas para los edificios clasificados como C1?\"\\n]',\n",
       " 'afa3965f': '[\\n  \"¿Qué inmuebles están contemplados dentro de la categoría C2? \",\\n  \"¿Qué criterios deben ser aplicados en la intervención de los edificios catalogados bajo la categoría C2?\"\\n]',\n",
       " '533b4b4b': '[\\n  \"¿Qué tipo de edificios se encuentra dentro de la categoría del Programa Parcial de Desarrollo Urbano Sustentable que han perdido su unidad formal debido a intervenciones no controladas?\",\\n  \"¿Cuál es el objetivo sugerido para los edificios históricos muy modificados según la categoría C3?\"\\n]',\n",
       " '56520714': '[\"¿Qué características tienen los edificios de la categoría C4 en el Programa Parcial de Desarrollo Urbano Sustentable?\", \"¿Cuál es la época a la que se refiere la construcción de los inmuebles clasificados como C4?\"]',\n",
       " '3445118b': ' \\n[\\n  \"¿Qué criterios define la categoría 5 en el Programa Parcial de Desarrollo Urbano Sustentable respecto a la arquitectura contemporánea?\",\\n  \"¿Cómo aborda la categoría 5 la conservación de inmuebles con arquitectura contemporánea en el contexto histórico?\"\\n]\\n',\n",
       " 'c78f3aa6': '[\\n  \"¿Qué tipo de reservas se establecen según la categoría 6 del Programa Parcial de Desarrollo Urbano Sustentable?\",\\n  \"Enumeraciones los espacios públicos que se consideran dentro de la categoría 6\"\\n]',\n",
       " '0d7eb7d4': '[\\n  \"¿Cómo afecta la gran cantidad de personas que van hacia o desde el Centro Histórico de Puebla al sistema de transporte público?\",\\n  \"¿Cuál es el resultado directo del movimiento constante hacia y desde el Centro Histórico de Puebla en cuanto a la demanda del transporte público?\"\\n]',\n",
       " '1832171c': '[\\n  \"¿Qué tan alto es la saturación de vialidades debido a la convergencia de rutas de transporte público en el Centro Histórico de Puebla?\",\\n  \"¿Cómo afecta esta alta concentración del tránsito vehicular las edificaciones patrimoniales?\"\\n]',\n",
       " 'efaea62a': ' \\n[\\n  \"¿Cómo ha afectado la disminución del 45.7% en la población residente del Centro Histórico a la demanda de transporte público?\",\\n  \"¿Qué relación existe entre la reducción demográfica en el Centro Histórico y la cantidad de viviendas deshabitadas y la demanda de transporte público?\"\\n]\\n',\n",
       " '6dca1a36': ' \\n[\\n  \"¿De qué manera influye la limitación en la accesibilidad al agua potable en la eficiencia y accesibilidad del sistema de transporte público en el Centro Histórico?\",\\n  \"¿Cómo impacta la obsolescencia de la infraestructura de agua potable en el sistema de transporte público y en la gestión de soluciones alternativas para el suministro de agua?\"\\n]\\n',\n",
       " '78646050': '{\\n  \"pregunta1\": \"¿Cuáles son los principales problemas de accesibilidad en las infraestructuras peatonales y ciclistas del Centro Histórico de Puebla?\",\\n  \"pregunta2\": \"¿Cómo afectan dichos problemas a la movilidad no motorizada y la utilidad general del Sistema de Transporte Público en esa misma área?\"\\n}',\n",
       " '580fff11': ' \\n[\\n  \"¿De qué manera contribuyen los programas de peatonalización temporal de calles a la sostenibilidad del transporte en el Centro Histórico?\",\\n  \"¿Cómo ayudan los programas de peatonalización temporal a reducir la saturación vehicular y fomentar el uso de modos de transporte sostenibles en el Centro Histórico?\"\\n]\\n',\n",
       " '9f142786': '[\\n  \"¿Cuáles son las medidas concretas para ampliar la red de ciclovías en el Centro Histórico de Puebla?\",\\n  \"¿Cómo garantizar una conexión eficiente entre dicha red y estaciones de transporte público en la mencionada zona?\"\\n]',\n",
       " '0baa7b74': '[\\n  \"¿Qué medidas se pueden tomar para reducir la saturación del transporte público en el corazón histórico de Puebla?\",\\n  \"¿De qué manera mejorar la reorganización de rutas de tránsito puede preservar los edificios del patrimonio?\"\\n]',\n",
       " '4a04eda6': '[\\n  \"¿Qué mejoras son necesarias en la infraestructura del transporte público para reducir contaminación ambiental?\",\\n  \"¿Cuál es el plan de acción para renovar vehículos y mejorar paradas y estaciones del transporte público en Puebla?\"\\n]',\n",
       " '77ac0461': '[\\n  \"¿Cómo pueden ayudar a reducir el número de viviendas deshabitadas políticas implementadas para promover accesibilidad en el Centro Histórico?\",\\n  \"¿Qué estrategias podrían atraer residentes al Centre Histórico después de promover la construcción y rehabilitación de viviendas accesibles?\"\\n]',\n",
       " '0f99d1d6': '[\\n  \"¿Qué campañas pueden implementarse en el Centro Histórico de Puebla para promover la movilidad sostenible?\",\\n  \"¿Cómo las estrategias de difusión informativa pueden impactar positivamente en el uso efectivo del transporte público?\"\\n]',\n",
       " '97ae5892': '[\\n  \"¿Cómo puede involucrar la participación ciudadana a los residentes del Centro Histórico de Puebla en la planificación y ejecución de proyectos de movilidad y transporte?\",\\n  \"¿Qué medidas pueden implementarse para asegurar que las necesidades y sugerencias de los residentes sean consideradas en la planificación de dichos proyectos?\"\\n]',\n",
       " 'b57e77d5': '[\\n  \"¿Cómo la colaboración entre instituciones puede ayudar a implementar estrategias de movilidad sostenible y accesibilidad en Puebla?\",\\n  \"¿Qué beneficios tiene facilitar que diferentes grupos trabajen juntos para mejorar el acceso al Centro Histórico de Puebla?\"\\n]',\n",
       " 'b8d17330': '[\\n  \"¿Qué estaciones del RUTA sirven al área de Héroes de la Reforma y sus cercanías?\",\\n  \"¿Cuáles son las paradas más cercanas al Mercado de Sabores en el centro histórico de Puebla?\"\\n]',\n",
       " 'dad70426': '[\\n  \"¿Qués líneas del RUTA pasan cerca del centro histórico?\",\\n  \"¿Qué líneas de tranvía son las que recorren el área del Centro Histórico?\"\\n]',\n",
       " '14a98c69': '[\\n  \"¿Qué sistema de transporte público es una red masiva que une a Puebla y sus alrededores?\",\\n  \"¿Qué municipios forman parte del territorio abarcado por la RUTA?\"\\n]',\n",
       " '6af8a12b': ' \\n[\\n  \"¿Qué aspectos destacan en la organización administrativa y operativa del sistema RUTA?\",\\n  \"¿Cuántas líneas troncales y rutas alimentadoras componen el sistema RUTA?\"\\n]\\n',\n",
       " '3460eff4': ' \\n[\\n  \"¿Qué características tienen las unidades que ofrecen el servicio en RUTA y qué medidas de seguridad se implementan en las paradas?\",\\n  \"¿Cómo se garantiza la seguridad de los usuarios del servicio de RUTA y qué tipo de carriles y unidades se utilizan?\"\\n]\\n',\n",
       " '39505e69': '[\\n  \"¿Qué rutas alimentadoras extenden la cobertura del servicio?\",\\n  \" Cuál es la distancia total recorrida por el servicio de RUTA?\"\\n]',\n",
       " '7422d972': '[\\n  \"¿A qué organizaciones está concesionado el servicio de RUTA y quién es responsable de supervisar su calidad?\",\\n  \"¿Quiénes son los encargados de garantizar la supervisión de los servicios de transporte público de personas pasajeras ofrecidos por las empresas concesionarias en el servicio de RUTA?\"\\n]',\n",
       " 'a34a81bd': '[\\n  \"¿Por qué se utiliza un sistema de prepago para el acceso al servicio de RUTA?\",\\n  \"¿Cómo permite el sistema de prepago que las personas usuarias accedan al servicio?\"\\n]',\n",
       " 'e948aed2': '[\\n  \"¿Donde pueden pagar su tarjeta para recargar saldo?\",\\n  \"¿Pueden hacer dinero en efectivo con su tarjeta?\"\\n]',\n",
       " '5d80fbba': ' \\n[\\n  \"¿Cuántas personas ha transportado el sistema RUTA en promedio durante el primer trimestre de 2024?\",\\n  \"¿Qué promedio de pasajeros ha registrado el sistema RUTA en el primer trimestre de 2024?\"\\n]\\n',\n",
       " '07053c4a': ' \\n[\\n  \"¿Cuál es el promedio de kilómetros recorridos por el sistema RUTA en el primer trimestre de 2024?\",\\n  \"¿Cuántos kilómetros ha recorrido en total el sistema RUTA durante el primer trimestre de 2024?\"\\n]\\n',\n",
       " '73e808e3': '[\\n  \"¿Cuál es la longitud total del corredor de la Línea 1 de RUTA?\",\\n  \"¿Cómo se identifican las diferentes estaciones y terminales en la Línea 1 de RUTA?\"\\n]',\n",
       " 'e4519dfa': '[\\n  \"¿Cuál es la longitud del corredor de la Línea 2 de RUTA?\",\\n  \"¿Cuántas estaciones, y un terminal, cuenta la Línea 2 de RUTA?\" \\n]',\n",
       " '8ebafe56': '[\\n  \"¿Cuál es la longitud total del corredor de La Línea 3 de RUTA?\",\\n  \"¿Cuántas estaciones posee y un terminal La Línea 3 de RUTA?\"\\n]',\n",
       " 'f6e4c4a8': '[\\n  \"¿Cuántas rutas alimentadoras tiene la Línea 1 de RUTA?\",\\n  \"¿Cuán vehículos troncales y alimentadores maneja la Línea 1 de RUTA en total?\"\\n]',\n",
       " '4792769c': '[\\n  \"¿Cuántas rutas alimentadoras tiene totalmente la Línea 2 de RUTA?\",\\n  \"¿Cuánta unidades de vehículos tiene la Línea 2 de RUTA?\"\\n]',\n",
       " 'c2428e9b': ' \\n[\\n  \"¿Cuántas rutas alimentadoras y cuántos vehículos troncales y alimentadores componen la Línea 3 de RUTA?\",\\n  \"¿Qué cantidad de rutas alimentadoras y vehículos se asigna a la Línea 3 del sistema RUTA?\"\\n]\\n',\n",
       " '4f47e18b': '[\\n  \"¿Cuántos patios de encierro cuenta la Línea 1?\",\\n  \"¿En cuántas secciones tienen los patios de encierro la estaciones de la línea 1?\"\\n]',\n",
       " 'f09792be': '[\\n  \"¿Cuántos patios de encierro existen en la sección Patios de Encierro de la Línea 2?\",\\n  \"¿En cuánta la Línea 2 tiene un patio de encierro?\"\\n]',\n",
       " '5ebfb281': '[\\n  \"¿Cuántos patios de encierro tienen en total todas las secciones de la Línea 3?\",\\n  \"¿Cuál es el número de patios de encierros únicos y totales asignados a La Línea 3 de RUTA?\"\\n]',\n",
       " '6e20b539': '[\\n  \"¿Qué tipos de unidades hay en la Línea 1?\",\\n  \"¿Cuáles son las características especiales de las unidades de servicio exclusivo para mujeres y menores de edad?\"\\n]',\n",
       " 'af455f9a': '[\\n  \"Qué unidades destacan por ser únicas en la Línea 2 de RUTA\",\\n  \"¿Incluyen las unidades de servicio exclusivo de la Línea 2 de RUTA algunos padrones entre sus características?\"\\n]',\n",
       " '866637ff': '[\\n  \"¿Qué tipo de unidades exclusivas dispone la Línea 3?\",\\n  \"¿Cuántos padrones y articulados tiene la Línea 3?\"\\n]'}"
      ]
     },
     "execution_count": 15,
     "metadata": {},
     "output_type": "execute_result"
    }
   ],
   "source": [
    "results"
   ]
  },
  {
   "cell_type": "code",
   "execution_count": 16,
   "id": "ccd49137-5445-4869-9cb9-9162c4913a33",
   "metadata": {},
   "outputs": [],
   "source": [
    "parsed_results = {}\n",
    "successful_parses = 0\n",
    "failed_parses = []\n",
    "\n",
    "for doc_id, json_questions in results.items():\n",
    "    try:\n",
    "        parsed_results[doc_id] = json.loads(json_questions)\n",
    "        successful_parses += 1\n",
    "    except json.JSONDecodeError:\n",
    "        failed_parses.append(doc_id)"
   ]
  },
  {
   "cell_type": "code",
   "execution_count": 17,
   "id": "4dd988c5-9e3b-49a8-b9ee-7b95ea125f8e",
   "metadata": {},
   "outputs": [
    {
     "data": {
      "text/plain": [
       "186"
      ]
     },
     "execution_count": 17,
     "metadata": {},
     "output_type": "execute_result"
    }
   ],
   "source": [
    "successful_parses"
   ]
  },
  {
   "cell_type": "code",
   "execution_count": 18,
   "id": "b4844cfc-bc1b-40cf-8618-10049e6c3e52",
   "metadata": {},
   "outputs": [],
   "source": [
    "doc_index = {d['id']: d for d in documents}"
   ]
  },
  {
   "cell_type": "code",
   "execution_count": 21,
   "id": "6cb2d209-251f-4cf9-8f12-51ffae2b6eb7",
   "metadata": {},
   "outputs": [],
   "source": [
    "final_results = []\n",
    "\n",
    "for doc_id, questions in parsed_results.items():\n",
    "    topic = doc_index[doc_id]['topic']\n",
    "    for q in questions:\n",
    "        final_results.append((q, topic, doc_id))"
   ]
  },
  {
   "cell_type": "code",
   "execution_count": 22,
   "id": "f3a93169-0a93-4f8c-b5c4-8c3f6c2c06fb",
   "metadata": {},
   "outputs": [],
   "source": [
    "import pandas as pd"
   ]
  },
  {
   "cell_type": "code",
   "execution_count": 27,
   "id": "de53cb51-cba2-4545-b672-bfae0c0ddc6a",
   "metadata": {},
   "outputs": [],
   "source": [
    "df = pd.DataFrame(final_results, columns=['question', 'topic', 'document'])"
   ]
  },
  {
   "cell_type": "code",
   "execution_count": 28,
   "id": "8674ee79-a961-492b-bcfe-13894daf41a0",
   "metadata": {},
   "outputs": [],
   "source": [
    "df.to_csv('ground-truth-data.csv', index=False)"
   ]
  },
  {
   "cell_type": "code",
   "execution_count": 29,
   "id": "9cba5740-6ca5-4fce-9671-d20004582553",
   "metadata": {},
   "outputs": [
    {
     "data": {
      "text/html": [
       "<div>\n",
       "<style scoped>\n",
       "    .dataframe tbody tr th:only-of-type {\n",
       "        vertical-align: middle;\n",
       "    }\n",
       "\n",
       "    .dataframe tbody tr th {\n",
       "        vertical-align: top;\n",
       "    }\n",
       "\n",
       "    .dataframe thead th {\n",
       "        text-align: right;\n",
       "    }\n",
       "</style>\n",
       "<table border=\"1\" class=\"dataframe\">\n",
       "  <thead>\n",
       "    <tr style=\"text-align: right;\">\n",
       "      <th></th>\n",
       "      <th>question</th>\n",
       "      <th>topic</th>\n",
       "      <th>document</th>\n",
       "    </tr>\n",
       "  </thead>\n",
       "  <tbody>\n",
       "    <tr>\n",
       "      <th>0</th>\n",
       "      <td>¿Qué acción ayudará al Eje 4 a proteger los el...</td>\n",
       "      <td>PMD</td>\n",
       "      <td>335b2f94</td>\n",
       "    </tr>\n",
       "    <tr>\n",
       "      <th>1</th>\n",
       "      <td>En qué medida el Eje 4 contribuirá al mejorami...</td>\n",
       "      <td>PMD</td>\n",
       "      <td>335b2f94</td>\n",
       "    </tr>\n",
       "    <tr>\n",
       "      <th>2</th>\n",
       "      <td>¿Cuáles son los objetivos principales del Plan...</td>\n",
       "      <td>PMD</td>\n",
       "      <td>805017f9</td>\n",
       "    </tr>\n",
       "    <tr>\n",
       "      <th>3</th>\n",
       "      <td>¿Qué acciones se llevarán a cabo para lograr u...</td>\n",
       "      <td>PMD</td>\n",
       "      <td>805017f9</td>\n",
       "    </tr>\n",
       "    <tr>\n",
       "      <th>4</th>\n",
       "      <td>¿Qué política abordan los programas parciales ...</td>\n",
       "      <td>PMD</td>\n",
       "      <td>017273c8</td>\n",
       "    </tr>\n",
       "  </tbody>\n",
       "</table>\n",
       "</div>"
      ],
      "text/plain": [
       "                                            question topic  document\n",
       "0  ¿Qué acción ayudará al Eje 4 a proteger los el...   PMD  335b2f94\n",
       "1  En qué medida el Eje 4 contribuirá al mejorami...   PMD  335b2f94\n",
       "2  ¿Cuáles son los objetivos principales del Plan...   PMD  805017f9\n",
       "3  ¿Qué acciones se llevarán a cabo para lograr u...   PMD  805017f9\n",
       "4  ¿Qué política abordan los programas parciales ...   PMD  017273c8"
      ]
     },
     "execution_count": 29,
     "metadata": {},
     "output_type": "execute_result"
    }
   ],
   "source": [
    "df.head()"
   ]
  },
  {
   "cell_type": "code",
   "execution_count": 30,
   "id": "06ba8baf-3112-4ea4-b936-5a24e8cf1708",
   "metadata": {},
   "outputs": [
    {
     "name": "stdout",
     "output_type": "stream",
     "text": [
      "question,topic,document\n",
      "¿Qué acción ayudará al Eje 4 a proteger los elementos históricos del Centro Histórico?,PMD,335b2f94\n",
      "En qué medida el Eje 4 contribuirá al mejoramiento urbano y preservación cultural de este área?,PMD,335b2f94\n",
      "¿Cuáles son los objetivos principales del Plan de Manejo del Centro Histórico de la ciudad?,PMD,805017f9\n",
      "¿Qué acciones se llevarán a cabo para lograr un mayor compromiso con la gestión y conservación del patrimonio histórico?,PMD,805017f9\n",
      "¿Qué política abordan los programas parciales de desarrollo urbano del Centro Histórico?,PMD,017273c8\n",
      "¿Cuáles son los objetivos de gobierno en el Barrio de Santiago Universitario?,PMD,017273c8\n",
      "¿Cuál fue la tasa más baja alcanzada por la zona metropolitana en cuanto a crecimiento poblacional durante el último decenio?,PMD,bbcc69fc\n",
      "¿Cuáles son algunos de los municipios con las mayores tasas de crecimiento dentro del área metropolitana?,PMD,bbcc69fc\n",
      "¿Qué fenómeno ha provocado la reducción de personas viviendo en el área principal de la ciudad?,PMD,9f8a1086\n"
     ]
    }
   ],
   "source": [
    "!head ground-truth-data.csv"
   ]
  }
 ],
 "metadata": {
  "kernelspec": {
   "display_name": "Python 3 (ipykernel)",
   "language": "python",
   "name": "python3"
  },
  "language_info": {
   "codemirror_mode": {
    "name": "ipython",
    "version": 3
   },
   "file_extension": ".py",
   "mimetype": "text/x-python",
   "name": "python",
   "nbconvert_exporter": "python",
   "pygments_lexer": "ipython3",
   "version": "3.10.13"
  }
 },
 "nbformat": 4,
 "nbformat_minor": 5
}
