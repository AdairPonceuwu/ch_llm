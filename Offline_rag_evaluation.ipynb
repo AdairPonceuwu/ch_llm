{
 "cells": [
  {
   "cell_type": "code",
   "execution_count": 1,
   "id": "27f1f1b6-703b-4bac-b9df-023b1ff79e02",
   "metadata": {},
   "outputs": [
    {
     "data": {
      "text/plain": [
       "{'text': 'El Eje 4 contribuirá al repoblamiento y mejoramiento urbano del Centro Histórico de Puebla, protegiendo su patrimonio histórico cultural.',\n",
       " 'section': 'Vinculación a otros instrumentos municipales',\n",
       " 'question': '¿Cómo contribuirá el Eje 4 a la protección del patrimonio histórico cultural del Centro Histórico?',\n",
       " 'topic': 'PMD',\n",
       " 'id': '335b2f94'}"
      ]
     },
     "execution_count": 1,
     "metadata": {},
     "output_type": "execute_result"
    }
   ],
   "source": [
    "import json\n",
    "\n",
    "with open('documents-with-ids.json', 'rt') as f_in:\n",
    "    documents = json.load(f_in)\n",
    "\n",
    "documents[0]"
   ]
  },
  {
   "cell_type": "code",
   "execution_count": 2,
   "id": "62f265c0-21db-45b4-a071-ba59948f7e9c",
   "metadata": {},
   "outputs": [
    {
     "data": {
      "text/plain": [
       "{'question': '¿Cuál es la relación entre turismo y economía local?',\n",
       " 'topic': 'PMD',\n",
       " 'document': '21b7970e'}"
      ]
     },
     "execution_count": 2,
     "metadata": {},
     "output_type": "execute_result"
    }
   ],
   "source": [
    "import pandas as pd\n",
    "df_ground_truth = pd.read_csv('ground-truth-data.csv')\n",
    "ground_truth = df_ground_truth.to_dict(orient='records')\n",
    "ground_truth[20]"
   ]
  },
  {
   "cell_type": "code",
   "execution_count": 3,
   "id": "00c001b9-bbef-476f-859a-d8f05524fe38",
   "metadata": {},
   "outputs": [
    {
     "data": {
      "text/plain": [
       "'El Eje 4 contribuirá al repoblamiento y mejoramiento urbano del Centro Histórico de Puebla, protegiendo su patrimonio histórico cultural.'"
      ]
     },
     "execution_count": 3,
     "metadata": {},
     "output_type": "execute_result"
    }
   ],
   "source": [
    "doc_idx = {d['id']: d for d in documents}\n",
    "doc_idx['335b2f94']['text']"
   ]
  },
  {
   "cell_type": "code",
   "execution_count": 4,
   "id": "54f423e5-5ffa-4ce5-9cdf-a2757a39ba01",
   "metadata": {},
   "outputs": [
    {
     "name": "stderr",
     "output_type": "stream",
     "text": [
      "/usr/local/python/3.10.13/lib/python3.10/site-packages/sentence_transformers/cross_encoder/CrossEncoder.py:11: TqdmWarning: IProgress not found. Please update jupyter and ipywidgets. See https://ipywidgets.readthedocs.io/en/stable/user_install.html\n",
      "  from tqdm.autonotebook import tqdm, trange\n"
     ]
    }
   ],
   "source": [
    "from sentence_transformers import SentenceTransformer\n",
    "\n",
    "model_name = 'multi-qa-MiniLM-L6-cos-v1'\n",
    "model = SentenceTransformer(model_name)"
   ]
  },
  {
   "cell_type": "code",
   "execution_count": 5,
   "id": "3e862508-e8cf-41aa-ae4a-aac00f9b9ea3",
   "metadata": {},
   "outputs": [
    {
     "data": {
      "text/plain": [
       "ObjectApiResponse({'acknowledged': True, 'shards_acknowledged': True, 'index': 'ch-questions'})"
      ]
     },
     "execution_count": 5,
     "metadata": {},
     "output_type": "execute_result"
    }
   ],
   "source": [
    "from elasticsearch import Elasticsearch\n",
    "\n",
    "es_client = Elasticsearch('http://localhost:9200') \n",
    "\n",
    "index_settings = {\n",
    "    \"settings\": {\n",
    "        \"number_of_shards\": 1,\n",
    "        \"number_of_replicas\": 0\n",
    "    },\n",
    "    \"mappings\": {\n",
    "        \"properties\": {\n",
    "            \"text\": {\"type\": \"text\"},\n",
    "            \"section\": {\"type\": \"text\"},\n",
    "            \"question\": {\"type\": \"text\"},\n",
    "            \"topic\": {\"type\": \"keyword\"},\n",
    "            \"id\": {\"type\": \"keyword\"},\n",
    "            \"question_vector\": {\n",
    "                \"type\": \"dense_vector\",\n",
    "                \"dims\": 384,\n",
    "                \"index\": True,\n",
    "                \"similarity\": \"cosine\"\n",
    "            },\n",
    "            \"text_vector\": {\n",
    "                \"type\": \"dense_vector\",\n",
    "                \"dims\": 384,\n",
    "                \"index\": True,\n",
    "                \"similarity\": \"cosine\"\n",
    "            },\n",
    "            \"question_text_vector\": {\n",
    "                \"type\": \"dense_vector\",\n",
    "                \"dims\": 384,\n",
    "                \"index\": True,\n",
    "                \"similarity\": \"cosine\"\n",
    "            },\n",
    "        }\n",
    "    }\n",
    "}\n",
    "\n",
    "index_name = \"ch-questions\"\n",
    "\n",
    "es_client.indices.delete(index=index_name, ignore_unavailable=True)\n",
    "es_client.indices.create(index=index_name, body=index_settings)"
   ]
  },
  {
   "cell_type": "code",
   "execution_count": 6,
   "id": "cb97ba36-449b-41cb-b8aa-f561eea6931e",
   "metadata": {},
   "outputs": [
    {
     "name": "stderr",
     "output_type": "stream",
     "text": [
      "100%|████████████████████████████████████████████████| 186/186 [00:21<00:00,  8.81it/s]\n"
     ]
    }
   ],
   "source": [
    "from tqdm.auto import tqdm\n",
    "\n",
    "for doc in tqdm(documents):\n",
    "    question = doc['question']\n",
    "    text = doc['text']\n",
    "    qt = question + ' ' + text\n",
    "\n",
    "    doc['question_vector'] = model.encode(question)\n",
    "    doc['text_vector'] = model.encode(text)\n",
    "    doc['question_text_vector'] = model.encode(qt)\n",
    "    es_client.index(index=index_name, document=doc)"
   ]
  },
  {
   "cell_type": "code",
   "execution_count": 7,
   "id": "bc07a358-406e-475c-881a-c55199b8df9d",
   "metadata": {},
   "outputs": [],
   "source": [
    "def elastic_search_knn_combined(vector, topic):\n",
    "    search_query = {\n",
    "        \"size\": 5,\n",
    "        \"query\": {\n",
    "            \"bool\": {\n",
    "                \"must\": [\n",
    "                    {\n",
    "                        \"script_score\": {\n",
    "                            \"query\": {\n",
    "                                \"term\": {\n",
    "                                    \"topic\": topic\n",
    "                                }\n",
    "                            },\n",
    "                            \"script\": {\n",
    "                                \"source\": \"\"\"\n",
    "                                    cosineSimilarity(params.query_vector, 'question_vector') + \n",
    "                                    cosineSimilarity(params.query_vector, 'text_vector') + \n",
    "                                    cosineSimilarity(params.query_vector, 'question_text_vector') + \n",
    "                                    1\n",
    "                                \"\"\",\n",
    "                                \"params\": {\n",
    "                                    \"query_vector\": vector\n",
    "                                }\n",
    "                            }\n",
    "                        }\n",
    "                    }\n",
    "                ],\n",
    "                \"filter\": {\n",
    "                    \"term\": {\n",
    "                        \"topic\": topic\n",
    "                    }\n",
    "                }\n",
    "            }\n",
    "        },\n",
    "        \"_source\": [\"text\", \"section\", \"question\", \"topic\", \"id\"]\n",
    "    }\n",
    "\n",
    "    es_results = es_client.search(\n",
    "        index=index_name,\n",
    "        body=search_query\n",
    "    )\n",
    "    \n",
    "    result_docs = []\n",
    "    \n",
    "    for hit in es_results['hits']['hits']:\n",
    "        result_docs.append(hit['_source'])\n",
    "\n",
    "    return result_docs"
   ]
  },
  {
   "cell_type": "code",
   "execution_count": 8,
   "id": "8404ee0b-754a-42b3-b9b7-ccf49eb63528",
   "metadata": {},
   "outputs": [],
   "source": [
    "def vector_combined_knn(q):\n",
    "    question = q['question']\n",
    "    topic = q['topic']\n",
    "\n",
    "    v_q = model.encode(question)\n",
    "\n",
    "    return elastic_search_knn_combined(v_q, topic)"
   ]
  },
  {
   "cell_type": "code",
   "execution_count": 9,
   "id": "49929d60-5e15-42d7-ab93-a42d21ae3a73",
   "metadata": {},
   "outputs": [
    {
     "data": {
      "text/plain": [
       "[{'question': '¿Qué importancia tiene el turismo para el desarrollo económico de Puebla?',\n",
       "  'topic': 'PMD',\n",
       "  'section': 'Turismo',\n",
       "  'text': 'El turismo representa una actividad de primera importancia para el desarrollo económico de Puebla.',\n",
       "  'id': '21b7970e'},\n",
       " {'question': '¿Cómo contribuyen los reconocimientos de la UNESCO al turismo en Puebla?',\n",
       "  'topic': 'PMD',\n",
       "  'section': 'Turismo',\n",
       "  'text': 'Los reconocimientos de la UNESCO otorgados al municipio en materia cultural constituyen una ventaja competitiva que fortalece su vocación turística.',\n",
       "  'id': '3b870dae'},\n",
       " {'question': '¿Cuál fue la tasa media anual de crecimiento poblacional en la zona metropolitana en el último decenio?',\n",
       "  'topic': 'PMD',\n",
       "  'section': 'Densidad poblacional',\n",
       "  'text': 'En el último decenio, la zona metropolitana registró su menor crecimiento poblacional con una tasa media anual de 0.9%. Esta situación contrasta con las altas tasas de crecimiento de municipios como Cuautlancingo, San Andrés Cholula, Huejotzingo y Coronango.',\n",
       "  'id': 'bbcc69fc'},\n",
       " {'question': '¿Cuántos espacios recreativos existen en el Centro Histórico de Puebla y cuál es su estado?',\n",
       "  'topic': 'PMD',\n",
       "  'section': 'Centro Histórico',\n",
       "  'text': 'En relación con los espacios públicos y su uso, de acuerdo con la información del Diagnóstico Urbano del Centro Histórico del IMPLAN (2021e), destaca la existencia de 52 espacios recreativos en el Centro Histórico, que le permiten superar la dotación de casi todas las zonas y juntas auxiliares del municipio. No obstante, muchos de ellos se localizan en barrios históricos y carecen de alguna intervención que propicie su apropiación y uso por parte de la población residente, de manera que se convierten en espacios de inseguridad.',\n",
       "  'id': 'eed016e4'},\n",
       " {'question': '¿Qué tipo de infraestructura tiene el Municipio de Puebla para la conectividad regional?',\n",
       "  'topic': 'PMD',\n",
       "  'section': 'Infraestructura',\n",
       "  'text': 'El Municipio de Puebla cuenta con una significativa infraestructura para la conectividad e integración con la región.',\n",
       "  'id': '93ed9b74'}]"
      ]
     },
     "execution_count": 9,
     "metadata": {},
     "output_type": "execute_result"
    }
   ],
   "source": [
    "vector_combined_knn(dict(\n",
    "    question='¿Cuál es la relación entre turismo y economía local?',\n",
    "    topic='PMD'\n",
    "))"
   ]
  }
 ],
 "metadata": {
  "kernelspec": {
   "display_name": "Python 3 (ipykernel)",
   "language": "python",
   "name": "python3"
  },
  "language_info": {
   "codemirror_mode": {
    "name": "ipython",
    "version": 3
   },
   "file_extension": ".py",
   "mimetype": "text/x-python",
   "name": "python",
   "nbconvert_exporter": "python",
   "pygments_lexer": "ipython3",
   "version": "3.10.13"
  }
 },
 "nbformat": 4,
 "nbformat_minor": 5
}
