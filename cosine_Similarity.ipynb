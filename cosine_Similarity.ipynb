{
 "cells": [
  {
   "cell_type": "code",
   "execution_count": 1,
   "id": "27f1f1b6-703b-4bac-b9df-023b1ff79e02",
   "metadata": {},
   "outputs": [
    {
     "data": {
      "text/plain": [
       "{'text': 'El Centro Histórico tiene un 34.9% de viviendas con apenas un dormitorio, indicando una condición de hacinamiento.',\n",
       " 'section': 'Bienestar Social',\n",
       " 'question': '¿Cuál es el porcentaje de viviendas con apenas un dormitorio en el Centro Histórico?',\n",
       " 'topic': 'PMD',\n",
       " 'id': '9079cdc6'}"
      ]
     },
     "execution_count": 1,
     "metadata": {},
     "output_type": "execute_result"
    }
   ],
   "source": [
    "import json\n",
    "\n",
    "with open('documents-with-ids.json', 'rt',  encoding='utf-8') as f_in:\n",
    "    documents = json.load(f_in)\n",
    "\n",
    "documents[20]"
   ]
  },
  {
   "cell_type": "code",
   "execution_count": 2,
   "id": "62f265c0-21db-45b4-a071-ba59948f7e9c",
   "metadata": {},
   "outputs": [
    {
     "data": {
      "text/plain": [
       "{'question': '¿Cuál es la relación entre turismo y economía local?',\n",
       " 'topic': 'PMD',\n",
       " 'document': '21b7970e'}"
      ]
     },
     "execution_count": 2,
     "metadata": {},
     "output_type": "execute_result"
    }
   ],
   "source": [
    "import pandas as pd\n",
    "df_ground_truth = pd.read_csv('ground-truth-data.csv')\n",
    "ground_truth = df_ground_truth.to_dict(orient='records')\n",
    "ground_truth[20]"
   ]
  },
  {
   "cell_type": "code",
   "execution_count": 3,
   "id": "00c001b9-bbef-476f-859a-d8f05524fe38",
   "metadata": {},
   "outputs": [
    {
     "data": {
      "text/plain": [
       "'El turismo representa una actividad de primera importancia para el desarrollo económico de Puebla.'"
      ]
     },
     "execution_count": 3,
     "metadata": {},
     "output_type": "execute_result"
    }
   ],
   "source": [
    "doc_idx = {d['id']: d for d in documents}\n",
    "doc_idx['21b7970e']['text']"
   ]
  },
  {
   "cell_type": "code",
   "execution_count": 4,
   "id": "54f423e5-5ffa-4ce5-9cdf-a2757a39ba01",
   "metadata": {},
   "outputs": [
    {
     "name": "stderr",
     "output_type": "stream",
     "text": [
      "D:\\Anaconda\\envs\\centro_historico\\Lib\\site-packages\\tqdm\\auto.py:21: TqdmWarning: IProgress not found. Please update jupyter and ipywidgets. See https://ipywidgets.readthedocs.io/en/stable/user_install.html\n",
      "  from .autonotebook import tqdm as notebook_tqdm\n",
      "D:\\Anaconda\\envs\\centro_historico\\Lib\\site-packages\\transformers\\tokenization_utils_base.py:1601: FutureWarning: `clean_up_tokenization_spaces` was not set. It will be set to `True` by default. This behavior will be depracted in transformers v4.45, and will be then set to `False` by default. For more details check this issue: https://github.com/huggingface/transformers/issues/31884\n",
      "  warnings.warn(\n"
     ]
    }
   ],
   "source": [
    "from sentence_transformers import SentenceTransformer\n",
    "\n",
    "model_name = 'multi-qa-MiniLM-L6-cos-v1'\n",
    "model = SentenceTransformer(model_name)"
   ]
  },
  {
   "cell_type": "code",
   "execution_count": 5,
   "id": "3e862508-e8cf-41aa-ae4a-aac00f9b9ea3",
   "metadata": {},
   "outputs": [
    {
     "data": {
      "text/plain": [
       "ObjectApiResponse({'acknowledged': True, 'shards_acknowledged': True, 'index': 'ch-questions'})"
      ]
     },
     "execution_count": 5,
     "metadata": {},
     "output_type": "execute_result"
    }
   ],
   "source": [
    "from elasticsearch import Elasticsearch\n",
    "\n",
    "es_client = Elasticsearch('http://localhost:9200') \n",
    "\n",
    "index_settings = {\n",
    "    \"settings\": {\n",
    "        \"number_of_shards\": 1,\n",
    "        \"number_of_replicas\": 0\n",
    "    },\n",
    "    \"mappings\": {\n",
    "        \"properties\": {\n",
    "            \"text\": {\"type\": \"text\"},\n",
    "            \"section\": {\"type\": \"text\"},\n",
    "            \"question\": {\"type\": \"text\"},\n",
    "            \"topic\": {\"type\": \"keyword\"},\n",
    "            \"id\": {\"type\": \"keyword\"},\n",
    "            \"question_vector\": {\n",
    "                \"type\": \"dense_vector\",\n",
    "                \"dims\": 384,\n",
    "                \"index\": True,\n",
    "                \"similarity\": \"cosine\"\n",
    "            },\n",
    "            \"text_vector\": {\n",
    "                \"type\": \"dense_vector\",\n",
    "                \"dims\": 384,\n",
    "                \"index\": True,\n",
    "                \"similarity\": \"cosine\"\n",
    "            },\n",
    "            \"question_text_vector\": {\n",
    "                \"type\": \"dense_vector\",\n",
    "                \"dims\": 384,\n",
    "                \"index\": True,\n",
    "                \"similarity\": \"cosine\"\n",
    "            },\n",
    "        }\n",
    "    }\n",
    "}\n",
    "\n",
    "index_name = \"ch-questions\"\n",
    "\n",
    "es_client.indices.delete(index=index_name, ignore_unavailable=True)\n",
    "es_client.indices.create(index=index_name, body=index_settings)"
   ]
  },
  {
   "cell_type": "code",
   "execution_count": 6,
   "id": "2324a4d7-a4a1-4226-9bc9-4f29956dc158",
   "metadata": {},
   "outputs": [
    {
     "name": "stdout",
     "output_type": "stream",
     "text": [
      "(8, 14, 0)\n"
     ]
    }
   ],
   "source": [
    "import elasticsearch\n",
    "print(elasticsearch.__version__)"
   ]
  },
  {
   "cell_type": "code",
   "execution_count": 7,
   "id": "cb97ba36-449b-41cb-b8aa-f561eea6931e",
   "metadata": {},
   "outputs": [
    {
     "name": "stderr",
     "output_type": "stream",
     "text": [
      "100%|████████████████████████████████████████████████████████████████████████████████| 186/186 [00:17<00:00, 10.56it/s]\n"
     ]
    }
   ],
   "source": [
    "from tqdm.auto import tqdm\n",
    "\n",
    "for doc in tqdm(documents):\n",
    "    question = doc['question']\n",
    "    text = doc['text']\n",
    "    qt = question + ' ' + text\n",
    "\n",
    "    doc['question_vector'] = model.encode(question)\n",
    "    doc['text_vector'] = model.encode(text)\n",
    "    doc['question_text_vector'] = model.encode(qt)\n",
    "    es_client.index(index=index_name, document=doc)"
   ]
  },
  {
   "cell_type": "code",
   "execution_count": 8,
   "id": "bc07a358-406e-475c-881a-c55199b8df9d",
   "metadata": {},
   "outputs": [],
   "source": [
    "def elastic_search_knn_combined(vector, topic):\n",
    "    search_query = {\n",
    "        \"size\": 5,\n",
    "        \"query\": {\n",
    "            \"bool\": {\n",
    "                \"must\": [\n",
    "                    {\n",
    "                        \"script_score\": {\n",
    "                            \"query\": {\n",
    "                                \"term\": {\n",
    "                                    \"topic\": topic\n",
    "                                }\n",
    "                            },\n",
    "                            \"script\": {\n",
    "                                \"source\": \"\"\"\n",
    "                                    cosineSimilarity(params.query_vector, 'question_vector') + \n",
    "                                    cosineSimilarity(params.query_vector, 'text_vector') + \n",
    "                                    cosineSimilarity(params.query_vector, 'question_text_vector') + \n",
    "                                    1\n",
    "                                \"\"\",\n",
    "                                \"params\": {\n",
    "                                    \"query_vector\": vector\n",
    "                                }\n",
    "                            }\n",
    "                        }\n",
    "                    }\n",
    "                ],\n",
    "                \"filter\": {\n",
    "                    \"term\": {\n",
    "                        \"topic\": topic\n",
    "                    }\n",
    "                }\n",
    "            }\n",
    "        },\n",
    "        \"_source\": [\"text\", \"section\", \"question\", \"topic\", \"id\"]\n",
    "    }\n",
    "\n",
    "    es_results = es_client.search(\n",
    "        index=index_name,\n",
    "        body=search_query\n",
    "    )\n",
    "    \n",
    "    result_docs = []\n",
    "    \n",
    "    for hit in es_results['hits']['hits']:\n",
    "        result_docs.append(hit['_source'])\n",
    "\n",
    "    return result_docs"
   ]
  },
  {
   "cell_type": "code",
   "execution_count": 9,
   "id": "8404ee0b-754a-42b3-b9b7-ccf49eb63528",
   "metadata": {},
   "outputs": [],
   "source": [
    "def vector_combined_knn(q):\n",
    "    question = q['question']\n",
    "    topic = q['topic']\n",
    "\n",
    "    v_q = model.encode(question)\n",
    "\n",
    "    return elastic_search_knn_combined(v_q, topic)"
   ]
  },
  {
   "cell_type": "code",
   "execution_count": 10,
   "id": "49929d60-5e15-42d7-ab93-a42d21ae3a73",
   "metadata": {},
   "outputs": [
    {
     "data": {
      "text/plain": [
       "[{'question': '¿Qué importancia tiene el turismo para el desarrollo económico de Puebla?',\n",
       "  'topic': 'PMD',\n",
       "  'section': 'Turismo',\n",
       "  'text': 'El turismo representa una actividad de primera importancia para el desarrollo económico de Puebla.',\n",
       "  'id': '21b7970e'},\n",
       " {'question': '¿Cómo contribuyen los reconocimientos de la UNESCO al turismo en Puebla?',\n",
       "  'topic': 'PMD',\n",
       "  'section': 'Turismo',\n",
       "  'text': 'Los reconocimientos de la UNESCO otorgados al municipio en materia cultural constituyen una ventaja competitiva que fortalece su vocación turística.',\n",
       "  'id': '3b870dae'},\n",
       " {'question': '¿Cuál fue la tasa media anual de crecimiento poblacional en la zona metropolitana en el último decenio?',\n",
       "  'topic': 'PMD',\n",
       "  'section': 'Densidad poblacional',\n",
       "  'text': 'En el último decenio, la zona metropolitana registró su menor crecimiento poblacional con una tasa media anual de 0.9%. Esta situación contrasta con las altas tasas de crecimiento de municipios como Cuautlancingo, San Andrés Cholula, Huejotzingo y Coronango.',\n",
       "  'id': 'bbcc69fc'},\n",
       " {'question': '¿Cuántos espacios recreativos existen en el Centro Histórico de Puebla y cuál es su estado?',\n",
       "  'topic': 'PMD',\n",
       "  'section': 'Centro Histórico',\n",
       "  'text': 'En relación con los espacios públicos y su uso, de acuerdo con la información del Diagnóstico Urbano del Centro Histórico del IMPLAN (2021e), destaca la existencia de 52 espacios recreativos en el Centro Histórico, que le permiten superar la dotación de casi todas las zonas y juntas auxiliares del municipio. No obstante, muchos de ellos se localizan en barrios históricos y carecen de alguna intervención que propicie su apropiación y uso por parte de la población residente, de manera que se convierten en espacios de inseguridad.',\n",
       "  'id': 'eed016e4'},\n",
       " {'question': '¿Qué tipo de infraestructura tiene el Municipio de Puebla para la conectividad regional?',\n",
       "  'topic': 'PMD',\n",
       "  'section': 'Infraestructura',\n",
       "  'text': 'El Municipio de Puebla cuenta con una significativa infraestructura para la conectividad e integración con la región.',\n",
       "  'id': '93ed9b74'}]"
      ]
     },
     "execution_count": 10,
     "metadata": {},
     "output_type": "execute_result"
    }
   ],
   "source": [
    "vector_combined_knn(dict(\n",
    "    question='¿Cuál es la relación entre turismo y economía local?',\n",
    "    topic='PMD'\n",
    "))"
   ]
  },
  {
   "cell_type": "code",
   "execution_count": 51,
   "id": "8e484723-ddde-4079-a1a4-c947e5616a5c",
   "metadata": {},
   "outputs": [],
   "source": [
    "def build_prompt(query, search_results):\n",
    "    prompt_template = \"\"\"\n",
    "Tu eres un experto en el municipio de Puebla y el Centro Histórico de Puebla. Responde la PREGUNTA basandote en el CONTEXTO proveniente de la base de datos FAQ.\n",
    "Se conciso, claro y da la mejor respuesta. Usando unicamente los hechos provenientes del CONTEXTO cuando respondas la PREGUNTA.\n",
    "\n",
    "\n",
    "PREGUNTA: {question}\n",
    "\n",
    "CONTEXTO \n",
    "{context}\n",
    "\"\"\".strip()\n",
    "\n",
    "    context = \"\"\n",
    "    \n",
    "    for doc in search_results:\n",
    "        context = context + f\"section: {doc['section']}\\nquestion: {doc['question']}\\nanswer: {doc['text']}\\n\\n\"\n",
    "    \n",
    "    prompt = prompt_template.format(question=query, context=context).strip()\n",
    "    return prompt"
   ]
  },
  {
   "cell_type": "code",
   "execution_count": 12,
   "id": "a412ddb6-a347-4c56-94cb-bffb8e8645fd",
   "metadata": {},
   "outputs": [],
   "source": [
    "from openai import OpenAI\n",
    "\n",
    "client = OpenAI(\n",
    "    base_url='http://localhost:11434/v1/',\n",
    "    api_key='ollama',\n",
    ")\n",
    "\n",
    "def llm(prompt, model='llama3.1'):\n",
    "    response = client.chat.completions.create(\n",
    "        model=model,\n",
    "        messages=[{\"role\": \"user\", \"content\": prompt}]\n",
    "    )\n",
    "    \n",
    "    return response.choices[0].message.content"
   ]
  },
  {
   "cell_type": "code",
   "execution_count": 13,
   "id": "08571629-d72e-4db5-87b6-8378beedd162",
   "metadata": {},
   "outputs": [],
   "source": [
    "def rag(query: dict, model='llama3.1') -> str:\n",
    "    search_results = vector_combined_knn(query)\n",
    "    prompt = build_prompt(query['question'], search_results)\n",
    "    answer = llm(prompt, model=model)\n",
    "    return answer"
   ]
  },
  {
   "cell_type": "code",
   "execution_count": 50,
   "id": "f5d87de5-8ece-4f8b-98dc-5fa82eae4313",
   "metadata": {},
   "outputs": [
    {
     "data": {
      "text/plain": [
       "'La relación entre turismo y economía local en Puebla es muy importante, ya que el turismo representa una actividad de primera importancia para el desarrollo económico del municipio. Además, los reconocimientos de la UNESCO han fortalecido la vocación turística de Puebla y constituyen una ventaja competitiva. Esto sugiere que el turismo tiene un impacto positivo en la economía local de Puebla.'"
      ]
     },
     "execution_count": 50,
     "metadata": {},
     "output_type": "execute_result"
    }
   ],
   "source": [
    "rag(ground_truth[20])"
   ]
  },
  {
   "cell_type": "code",
   "execution_count": 15,
   "id": "c6f5dfd9-764f-49b7-8ccd-4937cf90eefc",
   "metadata": {},
   "outputs": [
    {
     "data": {
      "text/plain": [
       "'El turismo representa una actividad de primera importancia para el desarrollo económico de Puebla.'"
      ]
     },
     "execution_count": 15,
     "metadata": {},
     "output_type": "execute_result"
    }
   ],
   "source": [
    "doc_idx['21b7970e']['text']"
   ]
  },
  {
   "cell_type": "code",
   "execution_count": 52,
   "id": "7aa7d742-77f5-40af-a557-7bde4575e234",
   "metadata": {},
   "outputs": [
    {
     "data": {
      "text/plain": [
       "0.8444394"
      ]
     },
     "execution_count": 52,
     "metadata": {},
     "output_type": "execute_result"
    }
   ],
   "source": [
    "answer_llm = 'La relación entre turismo y economía local en Puebla es muy importante, ya que el turismo representa una actividad de primera importancia para el desarrollo económico del municipio. Además, los reconocimientos de la UNESCO han fortalecido la vocación turística de Puebla y constituyen una ventaja competitiva. Esto sugiere que el turismo tiene un impacto positivo en la economía local de Puebla.'\n",
    "answer_orig = 'El turismo representa una actividad de primera importancia para el desarrollo económico de Puebla.'\n",
    "v_llm = model.encode(answer_llm)\n",
    "v_orig = model.encode(answer_orig)\n",
    "\n",
    "v_llm.dot(v_orig)"
   ]
  },
  {
   "cell_type": "code",
   "execution_count": 17,
   "id": "dbd31d1b-c6c9-46e5-ac18-ab4e78f92818",
   "metadata": {},
   "outputs": [],
   "source": [
    "answers = {}"
   ]
  },
  {
   "cell_type": "code",
   "execution_count": 22,
   "id": "a06e5fb0-4122-4274-9582-82ae85ff0831",
   "metadata": {},
   "outputs": [],
   "source": [
    "from tqdm.auto import tqdm\n",
    "\n",
    "from concurrent.futures import ThreadPoolExecutor\n",
    "\n",
    "pool = ThreadPoolExecutor(max_workers=8)\n",
    "\n",
    "def map_progress(pool, seq, f):\n",
    "    results = []\n",
    "\n",
    "    with tqdm(total=len(seq)) as progress:\n",
    "        futures = []\n",
    "\n",
    "        for el in seq:\n",
    "            future = pool.submit(f, el)\n",
    "            future.add_done_callback(lambda p: progress.update())\n",
    "            futures.append(future)\n",
    "\n",
    "        for future in futures:\n",
    "            result = future.result()\n",
    "            results.append(result)\n",
    "\n",
    "    return results"
   ]
  },
  {
   "cell_type": "code",
   "execution_count": 23,
   "id": "fca4b8ad-56a6-41fa-bf65-4e169c192744",
   "metadata": {},
   "outputs": [],
   "source": [
    "def process_record(rec):\n",
    "    model = 'llama3.1'\n",
    "    answer_llm = rag(rec, model=model)\n",
    "    \n",
    "    doc_id = rec['document']\n",
    "    original_doc = doc_idx[doc_id]\n",
    "    answer_orig = original_doc['text']\n",
    "\n",
    "    return {\n",
    "        'answer_llm': answer_llm,\n",
    "        'answer_orig': answer_orig,\n",
    "        'document': doc_id,\n",
    "        'question': rec['question'],\n",
    "        'topic': rec['topic'],\n",
    "    }"
   ]
  },
  {
   "cell_type": "code",
   "execution_count": 56,
   "id": "76de3013-4bdd-49c6-a416-6002dd83c7f0",
   "metadata": {},
   "outputs": [
    {
     "data": {
      "text/plain": [
       "{'answer_llm': 'La respuesta a tu pregunta sobre el acceso de las familias al sistema RUTA en Puebla según el Programa de Vivienda es lo siguiente:\\n\\nEl 50% de las familias del municipio tiene acceso al transporte RUTA.',\n",
       " 'answer_orig': 'El Programa de Vivienda para el Municipio de Puebla señala que apenas 50% de las familias en el municipio tiene acceso al transporte RUTA.',\n",
       " 'document': '858b5299',\n",
       " 'question': '¿Qué indica el Programa de Vivienda sobre el acceso de las familias al sistema RUTA en Puebla?',\n",
       " 'topic': 'PMD'}"
      ]
     },
     "execution_count": 56,
     "metadata": {},
     "output_type": "execute_result"
    }
   ],
   "source": [
    "process_record(ground_truth[91])"
   ]
  },
  {
   "cell_type": "code",
   "execution_count": 57,
   "id": "2b07f4dc-174f-4c9c-a0c6-acf4651c8b88",
   "metadata": {},
   "outputs": [
    {
     "data": {
      "text/plain": [
       "0.8610551"
      ]
     },
     "execution_count": 57,
     "metadata": {},
     "output_type": "execute_result"
    }
   ],
   "source": [
    "answer_orig = 'El Programa de Vivienda para el Municipio de Puebla señala que apenas 50% de las familias en el municipio tiene acceso al transporte RUTA.'\n",
    "answer_llm = 'La respuesta a tu pregunta sobre el acceso de las familias al sistema RUTA en Puebla según el Programa de Vivienda es lo siguiente:\\n\\nEl 50% de las familias del municipio tiene acceso al transporte RUTA.'\n",
    "v_llm = model.encode(answer_llm)\n",
    "v_orig = model.encode(answer_orig)\n",
    "\n",
    "v_llm.dot(v_orig)"
   ]
  },
  {
   "cell_type": "code",
   "execution_count": 58,
   "id": "9725a7d2-b067-4e13-a45f-3a9e3113fa80",
   "metadata": {},
   "outputs": [
    {
     "name": "stderr",
     "output_type": "stream",
     "text": [
      "100%|██████████████████████████████████████████████████████████████████████████████| 370/370 [4:52:04<00:00, 47.36s/it]\n"
     ]
    }
   ],
   "source": [
    "results_llama = map_progress(pool, ground_truth, process_record)"
   ]
  },
  {
   "cell_type": "code",
   "execution_count": 61,
   "id": "a06b5a63-e3e1-44d0-9aed-30b21c10f929",
   "metadata": {},
   "outputs": [],
   "source": [
    "df_llama = pd.DataFrame(results_llama)\n",
    "df_llama.to_csv('results-llama.csv', index=False)"
   ]
  },
  {
   "cell_type": "code",
   "execution_count": 63,
   "id": "2042e4ca-a682-44d1-b006-db210d55d1d8",
   "metadata": {},
   "outputs": [
    {
     "data": {
      "text/html": [
       "<div>\n",
       "<style scoped>\n",
       "    .dataframe tbody tr th:only-of-type {\n",
       "        vertical-align: middle;\n",
       "    }\n",
       "\n",
       "    .dataframe tbody tr th {\n",
       "        vertical-align: top;\n",
       "    }\n",
       "\n",
       "    .dataframe thead th {\n",
       "        text-align: right;\n",
       "    }\n",
       "</style>\n",
       "<table border=\"1\" class=\"dataframe\">\n",
       "  <thead>\n",
       "    <tr style=\"text-align: right;\">\n",
       "      <th></th>\n",
       "      <th>answer_llm</th>\n",
       "      <th>answer_orig</th>\n",
       "      <th>document</th>\n",
       "      <th>question</th>\n",
       "      <th>topic</th>\n",
       "    </tr>\n",
       "  </thead>\n",
       "  <tbody>\n",
       "    <tr>\n",
       "      <th>0</th>\n",
       "      <td>La acción que ayudará al Eje 4 a proteger los ...</td>\n",
       "      <td>El Eje 4 contribuirá al repoblamiento y mejora...</td>\n",
       "      <td>335b2f94</td>\n",
       "      <td>¿Qué acción ayudará al Eje 4 a proteger los el...</td>\n",
       "      <td>PMD</td>\n",
       "    </tr>\n",
       "    <tr>\n",
       "      <th>1</th>\n",
       "      <td>La respuesta a la pregunta es:\\n\\nEl Eje 4 con...</td>\n",
       "      <td>El Eje 4 contribuirá al repoblamiento y mejora...</td>\n",
       "      <td>335b2f94</td>\n",
       "      <td>En qué medida el Eje 4 contribuirá al mejorami...</td>\n",
       "      <td>PMD</td>\n",
       "    </tr>\n",
       "    <tr>\n",
       "      <th>2</th>\n",
       "      <td>Basándome en el contexto proporcionado, los ob...</td>\n",
       "      <td>El Plan de Manejo del Centro Histórico de Pueb...</td>\n",
       "      <td>805017f9</td>\n",
       "      <td>¿Cuáles son los objetivos principales del Plan...</td>\n",
       "      <td>PMD</td>\n",
       "    </tr>\n",
       "    <tr>\n",
       "      <th>3</th>\n",
       "      <td>Basándome en el contexto proporcionado, las ac...</td>\n",
       "      <td>El Plan de Manejo del Centro Histórico de Pueb...</td>\n",
       "      <td>805017f9</td>\n",
       "      <td>¿Qué acciones se llevarán a cabo para lograr u...</td>\n",
       "      <td>PMD</td>\n",
       "    </tr>\n",
       "    <tr>\n",
       "      <th>4</th>\n",
       "      <td>La política abordada por los programas parcial...</td>\n",
       "      <td>Los programas parciales de desarrollo urbano d...</td>\n",
       "      <td>017273c8</td>\n",
       "      <td>¿Qué política abordan los programas parciales ...</td>\n",
       "      <td>PMD</td>\n",
       "    </tr>\n",
       "  </tbody>\n",
       "</table>\n",
       "</div>"
      ],
      "text/plain": [
       "                                          answer_llm  \\\n",
       "0  La acción que ayudará al Eje 4 a proteger los ...   \n",
       "1  La respuesta a la pregunta es:\\n\\nEl Eje 4 con...   \n",
       "2  Basándome en el contexto proporcionado, los ob...   \n",
       "3  Basándome en el contexto proporcionado, las ac...   \n",
       "4  La política abordada por los programas parcial...   \n",
       "\n",
       "                                         answer_orig  document  \\\n",
       "0  El Eje 4 contribuirá al repoblamiento y mejora...  335b2f94   \n",
       "1  El Eje 4 contribuirá al repoblamiento y mejora...  335b2f94   \n",
       "2  El Plan de Manejo del Centro Histórico de Pueb...  805017f9   \n",
       "3  El Plan de Manejo del Centro Histórico de Pueb...  805017f9   \n",
       "4  Los programas parciales de desarrollo urbano d...  017273c8   \n",
       "\n",
       "                                            question topic  \n",
       "0  ¿Qué acción ayudará al Eje 4 a proteger los el...   PMD  \n",
       "1  En qué medida el Eje 4 contribuirá al mejorami...   PMD  \n",
       "2  ¿Cuáles son los objetivos principales del Plan...   PMD  \n",
       "3  ¿Qué acciones se llevarán a cabo para lograr u...   PMD  \n",
       "4  ¿Qué política abordan los programas parciales ...   PMD  "
      ]
     },
     "execution_count": 63,
     "metadata": {},
     "output_type": "execute_result"
    }
   ],
   "source": [
    "df_llama.head()"
   ]
  },
  {
   "cell_type": "code",
   "execution_count": 99,
   "id": "9e11fcc6-7b36-4f4b-8776-73be5823b9c4",
   "metadata": {},
   "outputs": [],
   "source": [
    "df_llama = pd.read_csv('results-llama.csv')"
   ]
  },
  {
   "cell_type": "code",
   "execution_count": 100,
   "id": "661a918e-ea2f-4f9e-9dab-a7308c29379a",
   "metadata": {},
   "outputs": [],
   "source": [
    "def compute_similarity(record):\n",
    "    answer_orig = record['answer_orig']\n",
    "    answer_llm = record['answer_llm']\n",
    "    \n",
    "    v_llm = model.encode(answer_llm)\n",
    "    v_orig = model.encode(answer_orig)\n",
    "    \n",
    "    return v_llm.dot(v_orig)"
   ]
  },
  {
   "cell_type": "code",
   "execution_count": 101,
   "id": "c85cc7ed-53a1-4f84-9fcf-5ccc2f995c8f",
   "metadata": {},
   "outputs": [
    {
     "name": "stderr",
     "output_type": "stream",
     "text": [
      "100%|████████████████████████████████████████████████████████████████████████████████| 370/370 [00:15<00:00, 23.72it/s]\n"
     ]
    }
   ],
   "source": [
    "results_df = df_llama.to_dict(orient='records')\n",
    "\n",
    "similarity_llama = []\n",
    "\n",
    "for record in tqdm(results_df):\n",
    "    sim = compute_similarity(record)\n",
    "    similarity_llama.append(sim)"
   ]
  },
  {
   "cell_type": "code",
   "execution_count": 102,
   "id": "57f9deca-26ad-408e-b7e7-6275133824e1",
   "metadata": {},
   "outputs": [
    {
     "data": {
      "text/plain": [
       "count    370.000000\n",
       "mean       0.722291\n",
       "std        0.149195\n",
       "min        0.276554\n",
       "25%        0.647168\n",
       "50%        0.752806\n",
       "75%        0.827955\n",
       "max        1.000000\n",
       "Name: cosine, dtype: float64"
      ]
     },
     "execution_count": 102,
     "metadata": {},
     "output_type": "execute_result"
    }
   ],
   "source": [
    "df_llama['cosine'] = similarity\n",
    "df_llama['cosine'].describe()"
   ]
  },
  {
   "cell_type": "code",
   "execution_count": 71,
   "id": "a4d87550-c088-4a1a-88eb-c99397ecdfb5",
   "metadata": {},
   "outputs": [],
   "source": [
    "import seaborn as sns\n",
    "import matplotlib.pyplot as plt"
   ]
  },
  {
   "cell_type": "code",
   "execution_count": 105,
   "id": "67e9dbe6-b2ba-4894-9d05-773d6db0cf5e",
   "metadata": {},
   "outputs": [
    {
     "data": {
      "image/png": "[encoded data removed]",
      "text/plain": [
       "<Figure size 640x480 with 1 Axes>"
      ]
     },
     "metadata": {},
     "output_type": "display_data"
    }
   ],
   "source": [
    "sns.histplot(df_llama['cosine'], kde=True, label='llama', color='red', stat='density', alpha=0.2)\n",
    "            \n",
    "plt.title(\"RAG LLM performance\")\n",
    "plt.xlabel(\"A->Q->A' Cosine Similarity\")\n",
    "plt.legend()\n",
    "plt.show()"
   ]
  }
 ],
 "metadata": {
  "kernelspec": {
   "display_name": "Python 3 (ipykernel)",
   "language": "python",
   "name": "python3"
  },
  "language_info": {
   "codemirror_mode": {
    "name": "ipython",
    "version": 3
   },
   "file_extension": ".py",
   "mimetype": "text/x-python",
   "name": "python",
   "nbconvert_exporter": "python",
   "pygments_lexer": "ipython3",
   "version": "3.12.4"
  }
 },
 "nbformat": 4,
 "nbformat_minor": 5
}
