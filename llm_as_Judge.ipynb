{
 "cells": [
  {
   "cell_type": "code",
   "execution_count": 1,
   "id": "49e43cf6-ee86-4c1d-9360-687ec1500730",
   "metadata": {},
   "outputs": [],
   "source": [
    "import json\n",
    "import pandas as pd\n",
    "from openai import OpenAI\n",
    "from tqdm.auto import tqdm"
   ]
  },
  {
   "cell_type": "code",
   "execution_count": 2,
   "id": "962a9e1d-d466-4593-a45e-cf4566780ff0",
   "metadata": {},
   "outputs": [
    {
     "data": {
      "text/plain": [
       "{'text': 'El Centro Histórico tiene un 34.9% de viviendas con apenas un dormitorio, indicando una condición de hacinamiento.',\n",
       " 'section': 'Bienestar Social',\n",
       " 'question': '¿Cuál es el porcentaje de viviendas con apenas un dormitorio en el Centro Histórico?',\n",
       " 'topic': 'PMD',\n",
       " 'id': '9079cdc6'}"
      ]
     },
     "execution_count": 2,
     "metadata": {},
     "output_type": "execute_result"
    }
   ],
   "source": [
    "with open('documents-with-ids.json', 'rt',  encoding='utf-8') as f_in:\n",
    "    documents = json.load(f_in)\n",
    "\n",
    "documents[20]\n"
   ]
  },
  {
   "cell_type": "code",
   "execution_count": 3,
   "id": "3db5ccae-7481-4402-b93c-7ac6c4439cff",
   "metadata": {},
   "outputs": [
    {
     "data": {
      "text/plain": [
       "{'question': '¿Cuál es la relación entre turismo y economía local?',\n",
       " 'topic': 'PMD',\n",
       " 'document': '21b7970e'}"
      ]
     },
     "execution_count": 3,
     "metadata": {},
     "output_type": "execute_result"
    }
   ],
   "source": [
    "df_ground_truth = pd.read_csv('ground-truth-data.csv')\n",
    "ground_truth = df_ground_truth.to_dict(orient='records')\n",
    "ground_truth[20]"
   ]
  },
  {
   "cell_type": "code",
   "execution_count": 4,
   "id": "e0d364ef-2372-4364-a9ce-3e8d09c4c0ae",
   "metadata": {},
   "outputs": [
    {
     "data": {
      "text/plain": [
       "'El turismo representa una actividad de primera importancia para el desarrollo económico de Puebla.'"
      ]
     },
     "execution_count": 4,
     "metadata": {},
     "output_type": "execute_result"
    }
   ],
   "source": [
    "doc_idx = {d['id']: d for d in documents}\n",
    "doc_idx['21b7970e']['text']"
   ]
  },
  {
   "cell_type": "code",
   "execution_count": 5,
   "id": "cc2ffc3d-39d5-4081-a8e6-284356aaf226",
   "metadata": {},
   "outputs": [],
   "source": [
    "df_llama = pd.read_csv('results-llama.csv')"
   ]
  },
  {
   "cell_type": "code",
   "execution_count": 6,
   "id": "91f40998-4cdc-4c0f-ad1d-7ef183dea091",
   "metadata": {},
   "outputs": [
    {
     "data": {
      "text/html": [
       "<div>\n",
       "<style scoped>\n",
       "    .dataframe tbody tr th:only-of-type {\n",
       "        vertical-align: middle;\n",
       "    }\n",
       "\n",
       "    .dataframe tbody tr th {\n",
       "        vertical-align: top;\n",
       "    }\n",
       "\n",
       "    .dataframe thead th {\n",
       "        text-align: right;\n",
       "    }\n",
       "</style>\n",
       "<table border=\"1\" class=\"dataframe\">\n",
       "  <thead>\n",
       "    <tr style=\"text-align: right;\">\n",
       "      <th></th>\n",
       "      <th>answer_llm</th>\n",
       "      <th>answer_orig</th>\n",
       "      <th>document</th>\n",
       "      <th>question</th>\n",
       "      <th>topic</th>\n",
       "    </tr>\n",
       "  </thead>\n",
       "  <tbody>\n",
       "    <tr>\n",
       "      <th>0</th>\n",
       "      <td>La acción que ayudará al Eje 4 a proteger los ...</td>\n",
       "      <td>El Eje 4 contribuirá al repoblamiento y mejora...</td>\n",
       "      <td>335b2f94</td>\n",
       "      <td>¿Qué acción ayudará al Eje 4 a proteger los el...</td>\n",
       "      <td>PMD</td>\n",
       "    </tr>\n",
       "    <tr>\n",
       "      <th>1</th>\n",
       "      <td>La respuesta a la pregunta es:\\n\\nEl Eje 4 con...</td>\n",
       "      <td>El Eje 4 contribuirá al repoblamiento y mejora...</td>\n",
       "      <td>335b2f94</td>\n",
       "      <td>En qué medida el Eje 4 contribuirá al mejorami...</td>\n",
       "      <td>PMD</td>\n",
       "    </tr>\n",
       "    <tr>\n",
       "      <th>2</th>\n",
       "      <td>Basándome en el contexto proporcionado, los ob...</td>\n",
       "      <td>El Plan de Manejo del Centro Histórico de Pueb...</td>\n",
       "      <td>805017f9</td>\n",
       "      <td>¿Cuáles son los objetivos principales del Plan...</td>\n",
       "      <td>PMD</td>\n",
       "    </tr>\n",
       "    <tr>\n",
       "      <th>3</th>\n",
       "      <td>Basándome en el contexto proporcionado, las ac...</td>\n",
       "      <td>El Plan de Manejo del Centro Histórico de Pueb...</td>\n",
       "      <td>805017f9</td>\n",
       "      <td>¿Qué acciones se llevarán a cabo para lograr u...</td>\n",
       "      <td>PMD</td>\n",
       "    </tr>\n",
       "    <tr>\n",
       "      <th>4</th>\n",
       "      <td>La política abordada por los programas parcial...</td>\n",
       "      <td>Los programas parciales de desarrollo urbano d...</td>\n",
       "      <td>017273c8</td>\n",
       "      <td>¿Qué política abordan los programas parciales ...</td>\n",
       "      <td>PMD</td>\n",
       "    </tr>\n",
       "  </tbody>\n",
       "</table>\n",
       "</div>"
      ],
      "text/plain": [
       "                                          answer_llm  \\\n",
       "0  La acción que ayudará al Eje 4 a proteger los ...   \n",
       "1  La respuesta a la pregunta es:\\n\\nEl Eje 4 con...   \n",
       "2  Basándome en el contexto proporcionado, los ob...   \n",
       "3  Basándome en el contexto proporcionado, las ac...   \n",
       "4  La política abordada por los programas parcial...   \n",
       "\n",
       "                                         answer_orig  document  \\\n",
       "0  El Eje 4 contribuirá al repoblamiento y mejora...  335b2f94   \n",
       "1  El Eje 4 contribuirá al repoblamiento y mejora...  335b2f94   \n",
       "2  El Plan de Manejo del Centro Histórico de Pueb...  805017f9   \n",
       "3  El Plan de Manejo del Centro Histórico de Pueb...  805017f9   \n",
       "4  Los programas parciales de desarrollo urbano d...  017273c8   \n",
       "\n",
       "                                            question topic  \n",
       "0  ¿Qué acción ayudará al Eje 4 a proteger los el...   PMD  \n",
       "1  En qué medida el Eje 4 contribuirá al mejorami...   PMD  \n",
       "2  ¿Cuáles son los objetivos principales del Plan...   PMD  \n",
       "3  ¿Qué acciones se llevarán a cabo para lograr u...   PMD  \n",
       "4  ¿Qué política abordan los programas parciales ...   PMD  "
      ]
     },
     "execution_count": 6,
     "metadata": {},
     "output_type": "execute_result"
    }
   ],
   "source": [
    "df_llama.head()"
   ]
  },
  {
   "cell_type": "code",
   "execution_count": 7,
   "id": "14aa2759-c707-443b-a034-9a7177ca176c",
   "metadata": {},
   "outputs": [],
   "source": [
    "client = OpenAI(\n",
    "    base_url='http://localhost:11434/v1/',\n",
    "    api_key='ollama',\n",
    ")\n",
    "\n",
    "def llm(prompt, model='llama3.1'):\n",
    "    response = client.chat.completions.create(\n",
    "        model=model,\n",
    "        messages=[{\"role\": \"user\", \"content\": prompt}]\n",
    "    )\n",
    "    \n",
    "    return response.choices[0].message.content"
   ]
  },
  {
   "cell_type": "code",
   "execution_count": 8,
   "id": "d28b2253-0faf-4d66-b0e1-1575708ce5f1",
   "metadata": {},
   "outputs": [],
   "source": [
    "prompt1_template = \"\"\"\n",
    "Eres un evaluador experto para un sistema de Generación Aumentada por Recuperación (RAG).\n",
    "Tu tarea es analizar la relevancia de la respuesta generada en comparación con la respuesta original proporcionada.\n",
    "Con base en la relevancia y similitud de la respuesta generada con la respuesta original, la clasificarás\n",
    "como \"NO_RELEVANTE\", \"PARCIALMENTE_RELEVANTE\" o \"RELEVANTE\".\n",
    "\n",
    "Aquí están los datos para la evaluación:\n",
    "\n",
    "Respuesta Original: {answer_orig}\n",
    "Pregunta Generada: {question}\n",
    "Respuesta Generada: {answer_llm}\n",
    "\n",
    "Por favor, analiza el contenido y contexto de la respuesta generada en relación con la respuesta original\n",
    "y proporciona tu evaluación en JSON sin usar bloques de código:\n",
    "\n",
    "{{\n",
    "  \"Relevancia\": \"NO_RELEVANTE\" | \"PARCIALMENTE_RELEVANTE\" | \"RELEVANTE\",\n",
    "  \"Explicación\": \"[Proporciona una breve explicación para tu evaluación]\"\n",
    "}}\n",
    "\"\"\".strip()\n"
   ]
  },
  {
   "cell_type": "code",
   "execution_count": 9,
   "id": "57176d9e-c8df-4bbc-864a-7ac4f926a89a",
   "metadata": {},
   "outputs": [],
   "source": [
    "prompt2_template = \"\"\"\n",
    "Eres un evaluador experto para un sistema de Generación Aumentada por Recuperación (RAG).\n",
    "Tu tarea es analizar la relevancia de la respuesta generada en relación con la pregunta dada.\n",
    "Con base en la relevancia de la respuesta generada, la clasificarás\n",
    "como \"NO_RELEVANTE\", \"PARCIALMENTE_RELEVANTE\" o \"RELEVANTE\".\n",
    "\n",
    "Aquí están los datos para la evaluación:\n",
    "\n",
    "Pregunta: {question}\n",
    "Respuesta Generada: {answer_llm}\n",
    "\n",
    "Por favor, analiza el contenido y contexto de la respuesta generada en relación con la pregunta\n",
    "y proporciona tu evaluación en JSON sin usar bloques de código:\n",
    "\n",
    "{{\n",
    "  \"Relevancia\": \"NO_RELEVANTE\" | \"PARCIALMENTE_RELEVANTE\" | \"RELEVANTE\",\n",
    "  \"Explicación\": \"[Proporciona una breve explicación para tu evaluación]\"\n",
    "}}\n",
    "\"\"\".strip()\n"
   ]
  },
  {
   "cell_type": "code",
   "execution_count": 10,
   "id": "023b364f-e898-468a-b0dd-0a5d62d594a8",
   "metadata": {},
   "outputs": [],
   "source": [
    "df_sample = df_llama.sample(n=50, random_state=1)"
   ]
  },
  {
   "cell_type": "code",
   "execution_count": 11,
   "id": "70e92730-be80-47d5-8045-2cc5e160f618",
   "metadata": {},
   "outputs": [
    {
     "data": {
      "text/html": [
       "<div>\n",
       "<style scoped>\n",
       "    .dataframe tbody tr th:only-of-type {\n",
       "        vertical-align: middle;\n",
       "    }\n",
       "\n",
       "    .dataframe tbody tr th {\n",
       "        vertical-align: top;\n",
       "    }\n",
       "\n",
       "    .dataframe thead th {\n",
       "        text-align: right;\n",
       "    }\n",
       "</style>\n",
       "<table border=\"1\" class=\"dataframe\">\n",
       "  <thead>\n",
       "    <tr style=\"text-align: right;\">\n",
       "      <th></th>\n",
       "      <th>answer_llm</th>\n",
       "      <th>answer_orig</th>\n",
       "      <th>document</th>\n",
       "      <th>question</th>\n",
       "      <th>topic</th>\n",
       "    </tr>\n",
       "  </thead>\n",
       "  <tbody>\n",
       "    <tr>\n",
       "      <th>207</th>\n",
       "      <td>La respuesta a tu pregunta es:\\n\\nEl municipio...</td>\n",
       "      <td>El Centro Histórico del Municipio de Puebla fu...</td>\n",
       "      <td>7f5bb88b</td>\n",
       "      <td>¿Cuándo fue reconocido oficialmente como Zona ...</td>\n",
       "      <td>PPDUS</td>\n",
       "    </tr>\n",
       "    <tr>\n",
       "      <th>82</th>\n",
       "      <td>La red urbana de transporte articulado (RUTA) ...</td>\n",
       "      <td>El Municipio de Puebla cuenta con una vasta re...</td>\n",
       "      <td>cfeffd05</td>\n",
       "      <td>¿Qué tipo de transporte público cubre la zona ...</td>\n",
       "      <td>PMD</td>\n",
       "    </tr>\n",
       "    <tr>\n",
       "      <th>185</th>\n",
       "      <td>Según la información proporcionada en el conte...</td>\n",
       "      <td>La construcción de redes de alcantarillado deb...</td>\n",
       "      <td>884ed4cb</td>\n",
       "      <td>¿Qué elementos deben garantizarse siempre en l...</td>\n",
       "      <td>PPDUS</td>\n",
       "    </tr>\n",
       "    <tr>\n",
       "      <th>367</th>\n",
       "      <td>No, las unidades de servicio exclusiva de la L...</td>\n",
       "      <td>La Línea 2 de RUTA tiene unidades de servicio ...</td>\n",
       "      <td>af455f9a</td>\n",
       "      <td>¿Incluyen las unidades de servicio exclusivo d...</td>\n",
       "      <td>RUTA</td>\n",
       "    </tr>\n",
       "    <tr>\n",
       "      <th>65</th>\n",
       "      <td>La respuesta a la pregunta es:\\n\\n\"Se necesita...</td>\n",
       "      <td>Se necesitan instrumentos específicos para la ...</td>\n",
       "      <td>3c367131</td>\n",
       "      <td>¿Cuál es el desarrollo urbano que requiere ins...</td>\n",
       "      <td>PMD</td>\n",
       "    </tr>\n",
       "  </tbody>\n",
       "</table>\n",
       "</div>"
      ],
      "text/plain": [
       "                                            answer_llm  \\\n",
       "207  La respuesta a tu pregunta es:\\n\\nEl municipio...   \n",
       "82   La red urbana de transporte articulado (RUTA) ...   \n",
       "185  Según la información proporcionada en el conte...   \n",
       "367  No, las unidades de servicio exclusiva de la L...   \n",
       "65   La respuesta a la pregunta es:\\n\\n\"Se necesita...   \n",
       "\n",
       "                                           answer_orig  document  \\\n",
       "207  El Centro Histórico del Municipio de Puebla fu...  7f5bb88b   \n",
       "82   El Municipio de Puebla cuenta con una vasta re...  cfeffd05   \n",
       "185  La construcción de redes de alcantarillado deb...  884ed4cb   \n",
       "367  La Línea 2 de RUTA tiene unidades de servicio ...  af455f9a   \n",
       "65   Se necesitan instrumentos específicos para la ...  3c367131   \n",
       "\n",
       "                                              question  topic  \n",
       "207  ¿Cuándo fue reconocido oficialmente como Zona ...  PPDUS  \n",
       "82   ¿Qué tipo de transporte público cubre la zona ...    PMD  \n",
       "185  ¿Qué elementos deben garantizarse siempre en l...  PPDUS  \n",
       "367  ¿Incluyen las unidades de servicio exclusivo d...   RUTA  \n",
       "65   ¿Cuál es el desarrollo urbano que requiere ins...    PMD  "
      ]
     },
     "execution_count": 11,
     "metadata": {},
     "output_type": "execute_result"
    }
   ],
   "source": [
    "df_sample.head()"
   ]
  },
  {
   "cell_type": "code",
   "execution_count": 12,
   "id": "34146e22-901e-4062-ae8a-6addb1d20d5e",
   "metadata": {},
   "outputs": [],
   "source": [
    "samples = df_sample.to_dict(orient='records')"
   ]
  },
  {
   "cell_type": "code",
   "execution_count": 13,
   "id": "3097092b-0f61-4e33-9745-6d23a697ea68",
   "metadata": {},
   "outputs": [
    {
     "data": {
      "text/plain": [
       "{'answer_llm': 'La respuesta a tu pregunta es:\\n\\nEl municipio de Puebla fue reconocido oficialmente como Zona de Monumentos Históricos en 1977, mediante el Decreto que lleva la fecha del 18 de Noviembre de dicho año.',\n",
       " 'answer_orig': 'El Centro Histórico del Municipio de Puebla fue decretado como Zona de Monumentos Históricos en 1977, sin embargo su límite original fue generado a partir una estructura urbana que se ha modificado en algunas zonas con el paso de los años.',\n",
       " 'document': '7f5bb88b',\n",
       " 'question': '¿Cuándo fue reconocido oficialmente como Zona de Monumentos Históricos?',\n",
       " 'topic': 'PPDUS'}"
      ]
     },
     "execution_count": 13,
     "metadata": {},
     "output_type": "execute_result"
    }
   ],
   "source": [
    "record = samples[0]\n",
    "record"
   ]
  },
  {
   "cell_type": "code",
   "execution_count": 14,
   "id": "32570bd4-dda4-4bbf-b0ff-9e759fd0b876",
   "metadata": {},
   "outputs": [
    {
     "name": "stdout",
     "output_type": "stream",
     "text": [
      "Eres un evaluador experto para un sistema de Generación Aumentada por Recuperación (RAG).\n",
      "Tu tarea es analizar la relevancia de la respuesta generada en comparación con la respuesta original proporcionada.\n",
      "Con base en la relevancia y similitud de la respuesta generada con la respuesta original, la clasificarás\n",
      "como \"NO_RELEVANTE\", \"PARCIALMENTE_RELEVANTE\" o \"RELEVANTE\".\n",
      "\n",
      "Aquí están los datos para la evaluación:\n",
      "\n",
      "Respuesta Original: El Centro Histórico del Municipio de Puebla fue decretado como Zona de Monumentos Históricos en 1977, sin embargo su límite original fue generado a partir una estructura urbana que se ha modificado en algunas zonas con el paso de los años.\n",
      "Pregunta Generada: ¿Cuándo fue reconocido oficialmente como Zona de Monumentos Históricos?\n",
      "Respuesta Generada: La respuesta a tu pregunta es:\n",
      "\n",
      "El municipio de Puebla fue reconocido oficialmente como Zona de Monumentos Históricos en 1977, mediante el Decreto que lleva la fecha del 18 de Noviembre de dicho año.\n",
      "\n",
      "Por favor, analiza el contenido y contexto de la respuesta generada en relación con la respuesta original\n",
      "y proporciona tu evaluación en JSON sin usar bloques de código:\n",
      "\n",
      "{\n",
      "  \"Relevancia\": \"NO_RELEVANTE\" | \"PARCIALMENTE_RELEVANTE\" | \"RELEVANTE\",\n",
      "  \"Explicación\": \"[Proporciona una breve explicación para tu evaluación]\"\n",
      "}\n"
     ]
    }
   ],
   "source": [
    "prompt = prompt1_template.format(**record)\n",
    "print(prompt)"
   ]
  },
  {
   "cell_type": "code",
   "execution_count": 15,
   "id": "10270162-146c-4ecd-aaf5-9c2e026296bf",
   "metadata": {},
   "outputs": [],
   "source": [
    "answer = llm(prompt)"
   ]
  },
  {
   "cell_type": "code",
   "execution_count": 16,
   "id": "2a12495c-7c7f-480f-8ed6-f29ff6ef5abf",
   "metadata": {},
   "outputs": [
    {
     "data": {
      "text/plain": [
       "'{\\n\\n\"Relevancia\": \"PARTICAMENTE_RELEVANTE\",\\n\\n\"Explanation\": \"Si bien la respuesta generated proporciona información correcta sobre la fecha en que se reconoció oficialmente al municipio de Puebla como Zona de Monumentos Históricos, el contenido no aborda específicamente el cambio en los límites originales del Centro Histórico debido a las modificaciones urbanas con el paso de los años. La respuesta original es más amplia y contextualiza la designación como Zona de Monumentos Históricos dentro del marco de las características histórico-urbanísticas del área, mientras que la respuesta generada solo proporciona la fecha y se centra en el reconocimiento oficial sin referirse explícitamente a estas modificaciones.\"\\n\\n}'"
      ]
     },
     "execution_count": 16,
     "metadata": {},
     "output_type": "execute_result"
    }
   ],
   "source": [
    "answer"
   ]
  },
  {
   "cell_type": "markdown",
   "id": "209a8047-4070-4ea7-ac9c-ff69e7d1afe8",
   "metadata": {},
   "source": [
    "# Prompt 1"
   ]
  },
  {
   "cell_type": "code",
   "execution_count": 17,
   "id": "eb55a510-fd1a-40bb-bedd-83f33c09a6e5",
   "metadata": {},
   "outputs": [
    {
     "data": {
      "application/vnd.jupyter.widget-view+json": {
       "model_id": "fbefa859bf5d4cf7b88d80943464ba10",
       "version_major": 2,
       "version_minor": 0
      },
      "text/plain": [
       "  0%|          | 0/50 [00:00<?, ?it/s]"
      ]
     },
     "metadata": {},
     "output_type": "display_data"
    }
   ],
   "source": [
    "evaluations = []\n",
    "\n",
    "for record in tqdm(samples):\n",
    "    prompt = prompt1_template.format(**record)\n",
    "    evaluation = llm(prompt)\n",
    "    evaluations.append(evaluation)"
   ]
  },
  {
   "cell_type": "code",
   "execution_count": 258,
   "id": "e680d415-fbd5-4595-a4eb-e3d141eecab4",
   "metadata": {},
   "outputs": [],
   "source": [
    "json_evaluations = []\n",
    "failed_parses = []\n",
    "\n",
    "       \n",
    "for i, str_eval in enumerate(evaluations):\n",
    "    try:\n",
    "        json_eval = json.loads(str_eval)\n",
    "        json_evaluations.append(json_eval)\n",
    "    except json.JSONDecodeError:\n",
    "        failed_parses.append(i)"
   ]
  },
  {
   "cell_type": "code",
   "execution_count": 259,
   "id": "48092e8b-337f-4ee0-b81d-bfb39d481399",
   "metadata": {},
   "outputs": [
    {
     "data": {
      "text/plain": [
       "50"
      ]
     },
     "execution_count": 259,
     "metadata": {},
     "output_type": "execute_result"
    }
   ],
   "source": [
    "len(json_evaluations)"
   ]
  },
  {
   "cell_type": "code",
   "execution_count": 260,
   "id": "7899c2f4-6129-4fb7-b521-ff69dda3c1d8",
   "metadata": {},
   "outputs": [
    {
     "data": {
      "text/plain": [
       "[]"
      ]
     },
     "execution_count": 260,
     "metadata": {},
     "output_type": "execute_result"
    }
   ],
   "source": [
    "failed_parses"
   ]
  },
  {
   "cell_type": "code",
   "execution_count": 262,
   "id": "66055878-ce94-4026-94a3-fc32c7178c82",
   "metadata": {},
   "outputs": [],
   "source": [
    "df_evaluations = pd.DataFrame(json_evaluations)"
   ]
  },
  {
   "cell_type": "code",
   "execution_count": 283,
   "id": "64e0ddad-83ae-47c3-ad59-e67561657f14",
   "metadata": {},
   "outputs": [
    {
     "data": {
      "text/html": [
       "<div>\n",
       "<style scoped>\n",
       "    .dataframe tbody tr th:only-of-type {\n",
       "        vertical-align: middle;\n",
       "    }\n",
       "\n",
       "    .dataframe tbody tr th {\n",
       "        vertical-align: top;\n",
       "    }\n",
       "\n",
       "    .dataframe thead th {\n",
       "        text-align: right;\n",
       "    }\n",
       "</style>\n",
       "<table border=\"1\" class=\"dataframe\">\n",
       "  <thead>\n",
       "    <tr style=\"text-align: right;\">\n",
       "      <th></th>\n",
       "      <th>Relevancia</th>\n",
       "      <th>Explicación</th>\n",
       "    </tr>\n",
       "  </thead>\n",
       "  <tbody>\n",
       "    <tr>\n",
       "      <th>3</th>\n",
       "      <td>NO_RELEVANTE</td>\n",
       "      <td>La respuesta generada es incorrecta y difiere ...</td>\n",
       "    </tr>\n",
       "    <tr>\n",
       "      <th>5</th>\n",
       "      <td>NO_RELEVANTE</td>\n",
       "      <td>La respuesta generada no menciona específicame...</td>\n",
       "    </tr>\n",
       "    <tr>\n",
       "      <th>13</th>\n",
       "      <td>NO_RELEVANTE</td>\n",
       "      <td>La respuesta generada no se relaciona con el c...</td>\n",
       "    </tr>\n",
       "    <tr>\n",
       "      <th>17</th>\n",
       "      <td>NO_RELEVANTE</td>\n",
       "      <td>La respuesta generada no aborda la cuestión de...</td>\n",
       "    </tr>\n",
       "    <tr>\n",
       "      <th>18</th>\n",
       "      <td>NO_RELEVANTE</td>\n",
       "      <td>La respuesta generada no es relevante con la p...</td>\n",
       "    </tr>\n",
       "    <tr>\n",
       "      <th>20</th>\n",
       "      <td>NO_RELEVANTE</td>\n",
       "      <td>La respuesta generada no coincide con el conte...</td>\n",
       "    </tr>\n",
       "    <tr>\n",
       "      <th>21</th>\n",
       "      <td>NO_RELEVANTE</td>\n",
       "      <td>La respuesta generada no contiene la informaci...</td>\n",
       "    </tr>\n",
       "    <tr>\n",
       "      <th>26</th>\n",
       "      <td>NO_RELEVANTE</td>\n",
       "      <td>La respuesta generada no proporciona informaci...</td>\n",
       "    </tr>\n",
       "    <tr>\n",
       "      <th>29</th>\n",
       "      <td>NO_RELEVANTE</td>\n",
       "      <td>La respuesta generada no proporciona informaci...</td>\n",
       "    </tr>\n",
       "    <tr>\n",
       "      <th>33</th>\n",
       "      <td>NO_RELEVANTE</td>\n",
       "      <td>La respuesta generada cambia el contexto de la...</td>\n",
       "    </tr>\n",
       "    <tr>\n",
       "      <th>36</th>\n",
       "      <td>NO_RELEVANTE</td>\n",
       "      <td>La respuesta generada no se relaciona directam...</td>\n",
       "    </tr>\n",
       "    <tr>\n",
       "      <th>38</th>\n",
       "      <td>NO_RELEVANTE</td>\n",
       "      <td>La respuesta generada agrega un énfasis innece...</td>\n",
       "    </tr>\n",
       "    <tr>\n",
       "      <th>43</th>\n",
       "      <td>NO_RELEVANTE</td>\n",
       "      <td>La respuesta generada es sobre el contenido ge...</td>\n",
       "    </tr>\n",
       "  </tbody>\n",
       "</table>\n",
       "</div>"
      ],
      "text/plain": [
       "      Relevancia                                        Explicación\n",
       "3   NO_RELEVANTE  La respuesta generada es incorrecta y difiere ...\n",
       "5   NO_RELEVANTE  La respuesta generada no menciona específicame...\n",
       "13  NO_RELEVANTE  La respuesta generada no se relaciona con el c...\n",
       "17  NO_RELEVANTE  La respuesta generada no aborda la cuestión de...\n",
       "18  NO_RELEVANTE  La respuesta generada no es relevante con la p...\n",
       "20  NO_RELEVANTE  La respuesta generada no coincide con el conte...\n",
       "21  NO_RELEVANTE  La respuesta generada no contiene la informaci...\n",
       "26  NO_RELEVANTE  La respuesta generada no proporciona informaci...\n",
       "29  NO_RELEVANTE  La respuesta generada no proporciona informaci...\n",
       "33  NO_RELEVANTE  La respuesta generada cambia el contexto de la...\n",
       "36  NO_RELEVANTE  La respuesta generada no se relaciona directam...\n",
       "38  NO_RELEVANTE  La respuesta generada agrega un énfasis innece...\n",
       "43  NO_RELEVANTE  La respuesta generada es sobre el contenido ge..."
      ]
     },
     "execution_count": 283,
     "metadata": {},
     "output_type": "execute_result"
    }
   ],
   "source": [
    "df_evaluations[df_evaluations.Relevancia == 'NO_RELEVANTE'] #.to_dict(orient='records')"
   ]
  },
  {
   "cell_type": "code",
   "execution_count": 288,
   "id": "9b285d77-287b-48e7-ab35-cef7adfd18e6",
   "metadata": {},
   "outputs": [
    {
     "data": {
      "text/plain": [
       "{'answer_llm': 'No, las unidades de servicio exclusiva de la Línea 2 de RUTA no incluyen padrones entre sus características. Según la información proporcionada, dichas unidades poseen 2 zafiros y 2 articulados con características específicas para atender el transporte de mujeres y menores de edad en el municipio de Puebla.',\n",
       " 'answer_orig': 'La Línea 2 de RUTA tiene unidades de servicio exclusivo para mujeres y menores de edad que incluyen 2 padrones y 2 articulados.',\n",
       " 'document': 'af455f9a',\n",
       " 'question': '¿Incluyen las unidades de servicio exclusivo de la Línea 2 de RUTA algunos padrones entre sus características?',\n",
       " 'topic': 'RUTA'}"
      ]
     },
     "execution_count": 288,
     "metadata": {},
     "output_type": "execute_result"
    }
   ],
   "source": [
    "samples[3]"
   ]
  },
  {
   "cell_type": "code",
   "execution_count": 284,
   "id": "8cef70e0-1697-48a1-b36e-18639a2c89bb",
   "metadata": {},
   "outputs": [
    {
     "data": {
      "text/plain": [
       "Relevancia\n",
       "RELEVANTE                 26\n",
       "NO_RELEVANTE              13\n",
       "PARCIALMENTE_RELEVANTE    11\n",
       "Name: count, dtype: int64"
      ]
     },
     "execution_count": 284,
     "metadata": {},
     "output_type": "execute_result"
    }
   ],
   "source": [
    "df_evaluations.Relevancia.value_counts()"
   ]
  },
  {
   "cell_type": "code",
   "execution_count": 287,
   "id": "8f609c00-0d9a-43be-b8cd-f30d8c34753b",
   "metadata": {},
   "outputs": [
    {
     "data": {
      "text/plain": [
       "'PARCIALMENTE_RELEVANTE'"
      ]
     },
     "execution_count": 287,
     "metadata": {},
     "output_type": "execute_result"
    }
   ],
   "source": [
    "df_evaluations.iloc[42, 0] "
   ]
  },
  {
   "cell_type": "code",
   "execution_count": 293,
   "id": "ac60d62d-e65c-4426-a99d-6fd468aafc5a",
   "metadata": {},
   "outputs": [],
   "source": [
    "df_evaluations.to_csv('evaluations_aqa.csv', index=False)"
   ]
  },
  {
   "cell_type": "markdown",
   "id": "6acab08f-a1e8-4614-a520-feec1b6f0dd5",
   "metadata": {},
   "source": [
    "# Prompt 2"
   ]
  },
  {
   "cell_type": "code",
   "execution_count": 289,
   "id": "24898bf5-9de9-48d6-8b45-ee5bf22f9124",
   "metadata": {},
   "outputs": [
    {
     "name": "stdout",
     "output_type": "stream",
     "text": [
      "Eres un evaluador experto para un sistema de Generación Aumentada por Recuperación (RAG).\n",
      "Tu tarea es analizar la relevancia de la respuesta generada en relación con la pregunta dada.\n",
      "Con base en la relevancia de la respuesta generada, la clasificarás\n",
      "como \"NO_RELEVANTE\", \"PARCIALMENTE_RELEVANTE\" o \"RELEVANTE\".\n",
      "\n",
      "Aquí están los datos para la evaluación:\n",
      "\n",
      "Pregunta: ¿Cuántas acciones se generarán para la conservación y preservación de inmuebles en los polígonos de actuación del Centro Histórico?\n",
      "Respuesta Generada: Según la información proporcionada, dentro de los polígonos de actuación del Centro Histórico se planean generar 115 acciones de conservación y preservación en inmuebles.\n",
      "\n",
      "Por favor, analiza el contenido y contexto de la respuesta generada en relación con la pregunta\n",
      "y proporciona tu evaluación en JSON sin usar bloques de código:\n",
      "\n",
      "{\n",
      "  \"Relevancia\": \"NO_RELEVANTE\" | \"PARCIALMENTE_RELEVANTE\" | \"RELEVANTE\",\n",
      "  \"Explicación\": \"[Proporciona una breve explicación para tu evaluación]\"\n",
      "}\n"
     ]
    }
   ],
   "source": [
    "prompt = prompt2_template.format(**record)\n",
    "print(prompt)"
   ]
  },
  {
   "cell_type": "code",
   "execution_count": 290,
   "id": "6721e514-fccc-4b52-97d7-ab938dbf3987",
   "metadata": {},
   "outputs": [],
   "source": [
    "answer = llm(prompt)"
   ]
  },
  {
   "cell_type": "code",
   "execution_count": 291,
   "id": "978a92d2-2327-4621-9595-794de6b65153",
   "metadata": {},
   "outputs": [
    {
     "data": {
      "text/plain": [
       "'{\\n  \"Relevancia\": \"RELEVANTE\",\\n  \"Explicación\": La respuesta generada proporciona información directa y específica sobre el número de acciones planeadas para la conservación y preservación en inmuebles dentro del área especificada, lo cual responde de manera precisas a la pregunta formulada.'"
      ]
     },
     "execution_count": 291,
     "metadata": {},
     "output_type": "execute_result"
    }
   ],
   "source": [
    "answer"
   ]
  },
  {
   "cell_type": "code",
   "execution_count": 292,
   "id": "bc193226-cb73-4694-a8f8-123cbb589fdc",
   "metadata": {},
   "outputs": [
    {
     "data": {
      "application/vnd.jupyter.widget-view+json": {
       "model_id": "3a3b16c25b4e4c16acee105bb34aac0b",
       "version_major": 2,
       "version_minor": 0
      },
      "text/plain": [
       "  0%|          | 0/50 [00:00<?, ?it/s]"
      ]
     },
     "metadata": {},
     "output_type": "display_data"
    }
   ],
   "source": [
    "evaluations_2 = []\n",
    "\n",
    "for record in tqdm(samples):\n",
    "    prompt = prompt2_template.format(**record)\n",
    "    evaluation = llm(prompt)\n",
    "    evaluations_2.append(evaluation)"
   ]
  },
  {
   "cell_type": "code",
   "execution_count": 377,
   "id": "b1fcc9a8-2a5a-4946-9b29-f5042a06382b",
   "metadata": {},
   "outputs": [],
   "source": [
    "json_evaluations_2 = []\n",
    "failed_parses_2 = []\n",
    "\n",
    "       \n",
    "for i, str_eval in enumerate(evaluations_2):\n",
    "    try:\n",
    "        json_eval = json.loads(str_eval)\n",
    "        json_evaluations_2.append(json_eval)\n",
    "    except json.JSONDecodeError:\n",
    "        failed_parses_2.append(i)"
   ]
  },
  {
   "cell_type": "code",
   "execution_count": 378,
   "id": "c280d120-02e5-4a33-8af9-3698c8cc6589",
   "metadata": {},
   "outputs": [
    {
     "data": {
      "text/plain": [
       "[]"
      ]
     },
     "execution_count": 378,
     "metadata": {},
     "output_type": "execute_result"
    }
   ],
   "source": [
    "failed_parses_2"
   ]
  },
  {
   "cell_type": "code",
   "execution_count": 400,
   "id": "fdf0f21e-392f-43ef-8ba8-48dcfc327cb4",
   "metadata": {},
   "outputs": [
    {
     "data": {
      "text/plain": [
       "'{\"Relevancia\": \"RELEVANTE\", \\n \"Explicación\": \"La respuesta generada tiene directa relación con la pregunta, proporcionando información específica sobre las acciones que se llevan a cabo en el área residencial del Centro Histórico para promover el uso de bicicletas y transporte público. La evidencia de estrategias específicas como la creación de ciclovías, mejorar el transporte público y facilitar rutas peatonales seguras demuestra una conexión clara a la pregunta.\"}'"
      ]
     },
     "execution_count": 400,
     "metadata": {},
     "output_type": "execute_result"
    }
   ],
   "source": [
    "evaluations_2[22]"
   ]
  },
  {
   "cell_type": "code",
   "execution_count": 380,
   "id": "f5c573c2-479a-4388-a3fd-1b433afc02b1",
   "metadata": {},
   "outputs": [],
   "source": [
    "df_evaluations_2 = pd.DataFrame(json_evaluations_2)"
   ]
  },
  {
   "cell_type": "code",
   "execution_count": 396,
   "id": "f1ede2bb-77f4-4d86-b7e4-0821d116a441",
   "metadata": {},
   "outputs": [
    {
     "data": {
      "text/html": [
       "<div>\n",
       "<style scoped>\n",
       "    .dataframe tbody tr th:only-of-type {\n",
       "        vertical-align: middle;\n",
       "    }\n",
       "\n",
       "    .dataframe tbody tr th {\n",
       "        vertical-align: top;\n",
       "    }\n",
       "\n",
       "    .dataframe thead th {\n",
       "        text-align: right;\n",
       "    }\n",
       "</style>\n",
       "<table border=\"1\" class=\"dataframe\">\n",
       "  <thead>\n",
       "    <tr style=\"text-align: right;\">\n",
       "      <th></th>\n",
       "      <th>Relevancia</th>\n",
       "      <th>Explicación</th>\n",
       "    </tr>\n",
       "  </thead>\n",
       "  <tbody>\n",
       "    <tr>\n",
       "      <th>2</th>\n",
       "      <td>NO_RELEVANTE</td>\n",
       "      <td>La respuesta generada menciona la hermeticidad...</td>\n",
       "    </tr>\n",
       "    <tr>\n",
       "      <th>3</th>\n",
       "      <td>NO_RELEVANTE</td>\n",
       "      <td>La respuesta no aborda directamente la inclusi...</td>\n",
       "    </tr>\n",
       "    <tr>\n",
       "      <th>5</th>\n",
       "      <td>NO_RELEVANTE</td>\n",
       "      <td>La respuesta generada no proporciona informaci...</td>\n",
       "    </tr>\n",
       "    <tr>\n",
       "      <th>6</th>\n",
       "      <td>NO_RELEVANTE</td>\n",
       "      <td>La respuesta proporcionada no aborda concretam...</td>\n",
       "    </tr>\n",
       "    <tr>\n",
       "      <th>14</th>\n",
       "      <td>NO_RELEVANTE</td>\n",
       "      <td>La respuesta generada no proporciona informaci...</td>\n",
       "    </tr>\n",
       "    <tr>\n",
       "      <th>18</th>\n",
       "      <td>NO_RELEVANTE</td>\n",
       "      <td>La respuesta generada no proporciona informaci...</td>\n",
       "    </tr>\n",
       "    <tr>\n",
       "      <th>21</th>\n",
       "      <td>NO_RELEVANTE</td>\n",
       "      <td>La respuesta proporcionada no aborda de manera...</td>\n",
       "    </tr>\n",
       "    <tr>\n",
       "      <th>24</th>\n",
       "      <td>NO_RELEVANTE</td>\n",
       "      <td>La respuesta generada no aborda la pregunta de...</td>\n",
       "    </tr>\n",
       "    <tr>\n",
       "      <th>26</th>\n",
       "      <td>NO_RELEVANTE</td>\n",
       "      <td>La respuesta generada es completamente irrelev...</td>\n",
       "    </tr>\n",
       "    <tr>\n",
       "      <th>27</th>\n",
       "      <td>NO_RELEVANTE</td>\n",
       "      <td>La respuesta generada se refiere específicamen...</td>\n",
       "    </tr>\n",
       "    <tr>\n",
       "      <th>31</th>\n",
       "      <td>NO_RELEVANTE</td>\n",
       "      <td>La respuesta generada, \"Excelente pregunta!\", ...</td>\n",
       "    </tr>\n",
       "    <tr>\n",
       "      <th>33</th>\n",
       "      <td>NO_RELEVANTE</td>\n",
       "      <td>La respuesta no proporciona información sobre ...</td>\n",
       "    </tr>\n",
       "    <tr>\n",
       "      <th>35</th>\n",
       "      <td>NO_RELEVANTE</td>\n",
       "      <td>La respuesta generada no proporciona informaci...</td>\n",
       "    </tr>\n",
       "    <tr>\n",
       "      <th>36</th>\n",
       "      <td>NO_RELEVANTE</td>\n",
       "      <td>La respuesta proporcionada no aborda en absolu...</td>\n",
       "    </tr>\n",
       "    <tr>\n",
       "      <th>41</th>\n",
       "      <td>NO_RELEVANTE</td>\n",
       "      <td>La respuesta no corresponde al contenido de la...</td>\n",
       "    </tr>\n",
       "    <tr>\n",
       "      <th>43</th>\n",
       "      <td>NO_RELEVANTE</td>\n",
       "      <td>La respuesta generada no provee medidas concre...</td>\n",
       "    </tr>\n",
       "  </tbody>\n",
       "</table>\n",
       "</div>"
      ],
      "text/plain": [
       "      Relevancia                                        Explicación\n",
       "2   NO_RELEVANTE  La respuesta generada menciona la hermeticidad...\n",
       "3   NO_RELEVANTE  La respuesta no aborda directamente la inclusi...\n",
       "5   NO_RELEVANTE  La respuesta generada no proporciona informaci...\n",
       "6   NO_RELEVANTE  La respuesta proporcionada no aborda concretam...\n",
       "14  NO_RELEVANTE  La respuesta generada no proporciona informaci...\n",
       "18  NO_RELEVANTE  La respuesta generada no proporciona informaci...\n",
       "21  NO_RELEVANTE  La respuesta proporcionada no aborda de manera...\n",
       "24  NO_RELEVANTE  La respuesta generada no aborda la pregunta de...\n",
       "26  NO_RELEVANTE  La respuesta generada es completamente irrelev...\n",
       "27  NO_RELEVANTE  La respuesta generada se refiere específicamen...\n",
       "31  NO_RELEVANTE  La respuesta generada, \"Excelente pregunta!\", ...\n",
       "33  NO_RELEVANTE  La respuesta no proporciona información sobre ...\n",
       "35  NO_RELEVANTE  La respuesta generada no proporciona informaci...\n",
       "36  NO_RELEVANTE  La respuesta proporcionada no aborda en absolu...\n",
       "41  NO_RELEVANTE  La respuesta no corresponde al contenido de la...\n",
       "43  NO_RELEVANTE  La respuesta generada no provee medidas concre..."
      ]
     },
     "execution_count": 396,
     "metadata": {},
     "output_type": "execute_result"
    }
   ],
   "source": [
    "df_evaluations_2[df_evaluations_2.Relevancia == 'NO_RELEVANTE'] #.to_dict(orient='records')"
   ]
  },
  {
   "cell_type": "code",
   "execution_count": 395,
   "id": "0fa01aa5-1a02-4156-9327-5905c83e9a42",
   "metadata": {},
   "outputs": [
    {
     "data": {
      "text/plain": [
       "Relevancia\n",
       "RELEVANTE                 19\n",
       "NO_RELEVANTE              16\n",
       "PARCIALMENTE_RELEVANTE    15\n",
       "Name: count, dtype: int64"
      ]
     },
     "execution_count": 395,
     "metadata": {},
     "output_type": "execute_result"
    }
   ],
   "source": [
    "df_evaluations_2.Relevancia.value_counts()"
   ]
  },
  {
   "cell_type": "code",
   "execution_count": 394,
   "id": "49f76c5e-29ec-4b77-8fa5-ca0b9c4942a1",
   "metadata": {},
   "outputs": [
    {
     "data": {
      "text/plain": [
       "'NO_RELEVANTE'"
      ]
     },
     "execution_count": 394,
     "metadata": {},
     "output_type": "execute_result"
    }
   ],
   "source": [
    "df_evaluations_2.iloc[27, 0] "
   ]
  },
  {
   "cell_type": "code",
   "execution_count": 398,
   "id": "d37f02eb-2c16-4dcb-8f17-b86064687403",
   "metadata": {},
   "outputs": [],
   "source": [
    "df_evaluations_2.to_csv('evaluations_qa.csv', index=False)"
   ]
  }
 ],
 "metadata": {
  "kernelspec": {
   "display_name": "Python 3 (ipykernel)",
   "language": "python",
   "name": "python3"
  },
  "language_info": {
   "codemirror_mode": {
    "name": "ipython",
    "version": 3
   },
   "file_extension": ".py",
   "mimetype": "text/x-python",
   "name": "python",
   "nbconvert_exporter": "python",
   "pygments_lexer": "ipython3",
   "version": "3.12.4"
  }
 },
 "nbformat": 4,
 "nbformat_minor": 5
}
