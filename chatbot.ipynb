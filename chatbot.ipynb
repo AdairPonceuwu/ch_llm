{
 "cells": [
  {
   "cell_type": "code",
   "execution_count": 3,
   "id": "a06c9901-a9a8-4c37-8c11-98aedd79e420",
   "metadata": {},
   "outputs": [],
   "source": [
    "from openai import OpenAI\n",
    "\n",
    "client = OpenAI(\n",
    "    base_url='http://localhost:11434/v1/',\n",
    "    api_key='ollama',\n",
    ")"
   ]
  },
  {
   "cell_type": "code",
   "execution_count": 4,
   "id": "ef72e59d-26c0-4e07-b744-e30cfd5758e9",
   "metadata": {},
   "outputs": [],
   "source": [
    "def llm(prompt):\n",
    "    response = client.chat.completions.create(\n",
    "        model='gemma:2b',\n",
    "        messages=[{\"role\": \"user\", \"content\": prompt}]\n",
    "    )\n",
    "    \n",
    "    return response.choices[0].message.content"
   ]
  },
  {
   "cell_type": "code",
   "execution_count": 5,
   "id": "d27d43c1-42e2-462a-b9cd-87f3bacaa766",
   "metadata": {},
   "outputs": [
    {
     "name": "stdout",
     "output_type": "stream",
     "text": [
      "Sure. The formula for energy is:\n",
      "\n",
      "$$E =  \\frac{1}{2}m\\overline{v}^2$$\n",
      "\n",
      "where:\n",
      "\n",
      "* \\(E\\) is the energy in joules\n",
      "* \\(m\\) is the mass of the object in kilograms\n",
      "* \\(\\overline{v}\\) is the average velocity of the object in meters per second\n",
      "\n",
      "This formula represents the energy of an object moving with a certain velocity and mass.\n"
     ]
    }
   ],
   "source": [
    "print(llm(\"What's the formula for energy?\"))"
   ]
  }
 ],
 "metadata": {
  "kernelspec": {
   "display_name": "Python 3 (ipykernel)",
   "language": "python",
   "name": "python3"
  },
  "language_info": {
   "codemirror_mode": {
    "name": "ipython",
    "version": 3
   },
   "file_extension": ".py",
   "mimetype": "text/x-python",
   "name": "python",
   "nbconvert_exporter": "python",
   "pygments_lexer": "ipython3",
   "version": "3.12.4"
  }
 },
 "nbformat": 4,
 "nbformat_minor": 5
}
